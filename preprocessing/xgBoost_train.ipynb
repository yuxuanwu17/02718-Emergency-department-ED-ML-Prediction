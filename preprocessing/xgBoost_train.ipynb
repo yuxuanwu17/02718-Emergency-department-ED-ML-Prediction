{
 "cells": [
  {
   "cell_type": "code",
   "execution_count": 1,
   "metadata": {
    "collapsed": true
   },
   "outputs": [
    {
     "name": "stdout",
     "output_type": "stream",
     "text": [
      "(534730, 584)\n"
     ]
    },
    {
     "data": {
      "text/plain": "   dep_name  esi  age  gender  ethnicity  race  lang  religion  maritalstatus  \\\n0         2    4   40       2          1     8     1         9              8   \n1         2    4   66       2          1     4     1        11              5   \n2         2    2   66       2          1     4     1        11              5   \n3         3    2   66       2          1     4     1        11              5   \n4         3    3   84       1          1     5     2        11             10   \n\n   employstatus  ...  cc_vaginaldischarge  cc_vaginalpain  cc_weakness  \\\n0             2  ...                    0               0            0   \n1             3  ...                    0               0            0   \n2             3  ...                    0               0            0   \n3             3  ...                    0               0            0   \n4             6  ...                    0               0            0   \n\n   cc_wheezing  cc_withdrawal-alcohol  cc_woundcheck  cc_woundinfection  \\\n0            0                      0              0                  0   \n1            0                      0              0                  0   \n2            0                      0              0                  0   \n3            0                      0              0                  0   \n4            0                      0              0                  0   \n\n   cc_woundre-evaluation  cc_wristinjury  cc_wristpain  \n0                      0               0             0  \n1                      0               0             0  \n2                      0               0             0  \n3                      0               0             0  \n4                      0               0             0  \n\n[5 rows x 584 columns]",
      "text/html": "<div>\n<style scoped>\n    .dataframe tbody tr th:only-of-type {\n        vertical-align: middle;\n    }\n\n    .dataframe tbody tr th {\n        vertical-align: top;\n    }\n\n    .dataframe thead th {\n        text-align: right;\n    }\n</style>\n<table border=\"1\" class=\"dataframe\">\n  <thead>\n    <tr style=\"text-align: right;\">\n      <th></th>\n      <th>dep_name</th>\n      <th>esi</th>\n      <th>age</th>\n      <th>gender</th>\n      <th>ethnicity</th>\n      <th>race</th>\n      <th>lang</th>\n      <th>religion</th>\n      <th>maritalstatus</th>\n      <th>employstatus</th>\n      <th>...</th>\n      <th>cc_vaginaldischarge</th>\n      <th>cc_vaginalpain</th>\n      <th>cc_weakness</th>\n      <th>cc_wheezing</th>\n      <th>cc_withdrawal-alcohol</th>\n      <th>cc_woundcheck</th>\n      <th>cc_woundinfection</th>\n      <th>cc_woundre-evaluation</th>\n      <th>cc_wristinjury</th>\n      <th>cc_wristpain</th>\n    </tr>\n  </thead>\n  <tbody>\n    <tr>\n      <th>0</th>\n      <td>2</td>\n      <td>4</td>\n      <td>40</td>\n      <td>2</td>\n      <td>1</td>\n      <td>8</td>\n      <td>1</td>\n      <td>9</td>\n      <td>8</td>\n      <td>2</td>\n      <td>...</td>\n      <td>0</td>\n      <td>0</td>\n      <td>0</td>\n      <td>0</td>\n      <td>0</td>\n      <td>0</td>\n      <td>0</td>\n      <td>0</td>\n      <td>0</td>\n      <td>0</td>\n    </tr>\n    <tr>\n      <th>1</th>\n      <td>2</td>\n      <td>4</td>\n      <td>66</td>\n      <td>2</td>\n      <td>1</td>\n      <td>4</td>\n      <td>1</td>\n      <td>11</td>\n      <td>5</td>\n      <td>3</td>\n      <td>...</td>\n      <td>0</td>\n      <td>0</td>\n      <td>0</td>\n      <td>0</td>\n      <td>0</td>\n      <td>0</td>\n      <td>0</td>\n      <td>0</td>\n      <td>0</td>\n      <td>0</td>\n    </tr>\n    <tr>\n      <th>2</th>\n      <td>2</td>\n      <td>2</td>\n      <td>66</td>\n      <td>2</td>\n      <td>1</td>\n      <td>4</td>\n      <td>1</td>\n      <td>11</td>\n      <td>5</td>\n      <td>3</td>\n      <td>...</td>\n      <td>0</td>\n      <td>0</td>\n      <td>0</td>\n      <td>0</td>\n      <td>0</td>\n      <td>0</td>\n      <td>0</td>\n      <td>0</td>\n      <td>0</td>\n      <td>0</td>\n    </tr>\n    <tr>\n      <th>3</th>\n      <td>3</td>\n      <td>2</td>\n      <td>66</td>\n      <td>2</td>\n      <td>1</td>\n      <td>4</td>\n      <td>1</td>\n      <td>11</td>\n      <td>5</td>\n      <td>3</td>\n      <td>...</td>\n      <td>0</td>\n      <td>0</td>\n      <td>0</td>\n      <td>0</td>\n      <td>0</td>\n      <td>0</td>\n      <td>0</td>\n      <td>0</td>\n      <td>0</td>\n      <td>0</td>\n    </tr>\n    <tr>\n      <th>4</th>\n      <td>3</td>\n      <td>3</td>\n      <td>84</td>\n      <td>1</td>\n      <td>1</td>\n      <td>5</td>\n      <td>2</td>\n      <td>11</td>\n      <td>10</td>\n      <td>6</td>\n      <td>...</td>\n      <td>0</td>\n      <td>0</td>\n      <td>0</td>\n      <td>0</td>\n      <td>0</td>\n      <td>0</td>\n      <td>0</td>\n      <td>0</td>\n      <td>0</td>\n      <td>0</td>\n    </tr>\n  </tbody>\n</table>\n<p>5 rows × 584 columns</p>\n</div>"
     },
     "execution_count": 1,
     "metadata": {},
     "output_type": "execute_result"
    }
   ],
   "source": [
    "import pandas as pd\n",
    "import numpy as np\n",
    "import time\n",
    "\n",
    "\n",
    "np.random.seed(33)\n",
    "# df = pd.read_csv(\"../data/featureSelectedAllDataWithY.csv\")\n",
    "df = pd.read_csv(\"../data/Cleaned_dat_encoded.csv\")\n",
    "print(df.shape)\n",
    "df.head()"
   ]
  },
  {
   "cell_type": "code",
   "execution_count": 2,
   "outputs": [
    {
     "name": "stdout",
     "output_type": "stream",
     "text": [
      "No. of training examples: 427784\n",
      "No. of testing examples: 106946\n"
     ]
    }
   ],
   "source": [
    "## Split the data into training and testing data\n",
    "from sklearn.model_selection import train_test_split\n",
    "\n",
    "training_data, testing_data = train_test_split(df, test_size=0.2, random_state=25)\n",
    "\n",
    "print(f\"No. of training examples: {training_data.shape[0]}\")\n",
    "print(f\"No. of testing examples: {testing_data.shape[0]}\")"
   ],
   "metadata": {
    "collapsed": false,
    "pycharm": {
     "name": "#%%\n"
    }
   }
  },
  {
   "cell_type": "code",
   "execution_count": 16,
   "outputs": [],
   "source": [
    "from sklearn.preprocessing import StandardScaler\n",
    "y_train = training_data['disposition']\n",
    "y_test = testing_data['disposition']\n",
    "X_train = StandardScaler().fit_transform(training_data.drop(\"disposition\",axis = 1))\n",
    "X_test = StandardScaler().fit_transform(testing_data.drop(\"disposition\",axis = 1))\n",
    "\n",
    "# y_train = np.array(y_train)\n",
    "# y_test = np.array(y_test)\n",
    "# X_train = np.array(X_train)\n",
    "# X_test = np.array(X_test)\n",
    "y_train = np.array(y_train)[:100]\n",
    "y_test = np.array(y_test)[:10]\n",
    "X_train = np.array(X_train)[:100,]\n",
    "X_test = np.array(X_test)[:10,]\n"
   ],
   "metadata": {
    "collapsed": false,
    "pycharm": {
     "name": "#%%\n"
    }
   }
  },
  {
   "cell_type": "code",
   "execution_count": 17,
   "outputs": [
    {
     "name": "stderr",
     "output_type": "stream",
     "text": [
      "/Users/yuxuan/opt/anaconda3/envs/dp3.7/lib/python3.7/site-packages/xgboost/sklearn.py:888: UserWarning: The use of label encoder in XGBClassifier is deprecated and will be removed in a future release. To remove this warning, do the following: 1) Pass option use_label_encoder=False when constructing XGBClassifier object; and 2) Encode your labels (y) as integers starting with 0, i.e. 0, 1, 2, ..., [num_class - 1].\n",
      "  warnings.warn(label_encoder_deprecation_msg, UserWarning)\n"
     ]
    },
    {
     "name": "stdout",
     "output_type": "stream",
     "text": [
      "[11:24:12] WARNING: /opt/concourse/worker/volumes/live/7a2b9f41-3287-451b-6691-43e9a6c0910f/volume/xgboost-split_1619728204606/work/src/learner.cc:1061: Starting in XGBoost 1.3.0, the default evaluation metric used with the objective 'binary:logistic' was changed from 'error' to 'logloss'. Explicitly set eval_metric if you'd like to restore the old behavior.\n"
     ]
    },
    {
     "data": {
      "text/plain": "XGBClassifier(base_score=0.5, booster='gbtree', colsample_bylevel=1,\n              colsample_bynode=1, colsample_bytree=1, gamma=0, gpu_id=-1,\n              importance_type='gain', interaction_constraints='',\n              learning_rate=0.05, max_delta_step=0, max_depth=6,\n              min_child_weight=1, missing=nan, monotone_constraints='()',\n              n_estimators=1000, n_jobs=6, num_parallel_tree=1, random_state=0,\n              reg_alpha=0, reg_lambda=1, scale_pos_weight=1, subsample=1,\n              tree_method='exact', validate_parameters=1, verbosity=None)"
     },
     "execution_count": 17,
     "metadata": {},
     "output_type": "execute_result"
    }
   ],
   "source": [
    "from xgboost import XGBClassifier\n",
    "\n",
    "my_model = XGBClassifier(n_estimators=1000, learning_rate=0.05,n_jobs=6)\n",
    "# Add silent=True to avoid printing out updates with each cycle\n",
    "my_model.fit(X_train, y_train, verbose=True)"
   ],
   "metadata": {
    "collapsed": false,
    "pycharm": {
     "name": "#%%\n"
    }
   }
  },
  {
   "cell_type": "code",
   "execution_count": 18,
   "outputs": [
    {
     "name": "stdout",
     "output_type": "stream",
     "text": [
      "[[3 0]\n",
      " [1 6]]\n",
      "0.9\n"
     ]
    }
   ],
   "source": [
    "from sklearn.metrics import confusion_matrix, accuracy_score\n",
    "y_pred = my_model.predict(X_test)\n",
    "# Making Confusion Matrix and calculating accuracy score\n",
    "\n",
    "mylist = []\n",
    "cm = confusion_matrix(y_test, y_pred)\n",
    "ac = accuracy_score(y_test, y_pred)\n",
    "mylist.append(ac)\n",
    "print(cm)\n",
    "print(ac)"
   ],
   "metadata": {
    "collapsed": false,
    "pycharm": {
     "name": "#%%\n"
    }
   }
  },
  {
   "cell_type": "code",
   "execution_count": 4,
   "outputs": [],
   "source": [],
   "metadata": {
    "collapsed": false,
    "pycharm": {
     "name": "#%%\n"
    }
   }
  }
 ],
 "metadata": {
  "kernelspec": {
   "display_name": "Python 3",
   "language": "python",
   "name": "python3"
  },
  "language_info": {
   "codemirror_mode": {
    "name": "ipython",
    "version": 2
   },
   "file_extension": ".py",
   "mimetype": "text/x-python",
   "name": "python",
   "nbconvert_exporter": "python",
   "pygments_lexer": "ipython2",
   "version": "2.7.6"
  }
 },
 "nbformat": 4,
 "nbformat_minor": 0
}