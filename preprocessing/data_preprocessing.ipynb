{
 "cells": [
  {
   "cell_type": "markdown",
   "metadata": {},
   "source": [
    "## Read the feature selected  data frame via mutual information"
   ]
  },
  {
   "cell_type": "code",
   "execution_count": 11,
   "metadata": {},
   "outputs": [
    {
     "data": {
      "text/plain": "   esi  age  ethnicity  race  lang  maritalstatus  employstatus  \\\n0    4   40          1     8     1              8             2   \n1    4   66          1     4     1              5             3   \n2    2   66          1     4     1              5             3   \n3    2   66          1     4     1              5             3   \n4    3   84          1     5     2             10             6   \n\n   insurance_status  disposition  arrivalhour_bin  hrtvalvedx  \\\n0                 4            2                1           0   \n1                 1            2                5           0   \n2                 1            2                4           0   \n3                 1            2                4           0   \n4                 3            1                3           0   \n\n   meds_analgesicandantihistaminecombination  meds_antiparkinsondrugs  \\\n0                                          0                        0   \n1                                          0                        0   \n2                                          0                        0   \n3                                          0                        0   \n4                                          0                        0   \n\n   meds_blood  meds_cardiacdrugs  meds_diagnostic  meds_eentpreps  \\\n0           0                  0                0               0   \n1           0                  0                0               0   \n2           0                  0                0               0   \n3           0                  0                0               0   \n4           0                  0                0               0   \n\n   meds_elect/caloric/h2o  meds_pre-natalvitamins  \\\n0                       0                       0   \n1                       0                       0   \n2                       0                       0   \n3                       0                       0   \n4                       2                       0   \n\n   meds_unclassifieddrugproducts  \n0                              0  \n1                              0  \n2                              0  \n3                              0  \n4                              0  ",
      "text/html": "<div>\n<style scoped>\n    .dataframe tbody tr th:only-of-type {\n        vertical-align: middle;\n    }\n\n    .dataframe tbody tr th {\n        vertical-align: top;\n    }\n\n    .dataframe thead th {\n        text-align: right;\n    }\n</style>\n<table border=\"1\" class=\"dataframe\">\n  <thead>\n    <tr style=\"text-align: right;\">\n      <th></th>\n      <th>esi</th>\n      <th>age</th>\n      <th>ethnicity</th>\n      <th>race</th>\n      <th>lang</th>\n      <th>maritalstatus</th>\n      <th>employstatus</th>\n      <th>insurance_status</th>\n      <th>disposition</th>\n      <th>arrivalhour_bin</th>\n      <th>hrtvalvedx</th>\n      <th>meds_analgesicandantihistaminecombination</th>\n      <th>meds_antiparkinsondrugs</th>\n      <th>meds_blood</th>\n      <th>meds_cardiacdrugs</th>\n      <th>meds_diagnostic</th>\n      <th>meds_eentpreps</th>\n      <th>meds_elect/caloric/h2o</th>\n      <th>meds_pre-natalvitamins</th>\n      <th>meds_unclassifieddrugproducts</th>\n    </tr>\n  </thead>\n  <tbody>\n    <tr>\n      <th>0</th>\n      <td>4</td>\n      <td>40</td>\n      <td>1</td>\n      <td>8</td>\n      <td>1</td>\n      <td>8</td>\n      <td>2</td>\n      <td>4</td>\n      <td>2</td>\n      <td>1</td>\n      <td>0</td>\n      <td>0</td>\n      <td>0</td>\n      <td>0</td>\n      <td>0</td>\n      <td>0</td>\n      <td>0</td>\n      <td>0</td>\n      <td>0</td>\n      <td>0</td>\n    </tr>\n    <tr>\n      <th>1</th>\n      <td>4</td>\n      <td>66</td>\n      <td>1</td>\n      <td>4</td>\n      <td>1</td>\n      <td>5</td>\n      <td>3</td>\n      <td>1</td>\n      <td>2</td>\n      <td>5</td>\n      <td>0</td>\n      <td>0</td>\n      <td>0</td>\n      <td>0</td>\n      <td>0</td>\n      <td>0</td>\n      <td>0</td>\n      <td>0</td>\n      <td>0</td>\n      <td>0</td>\n    </tr>\n    <tr>\n      <th>2</th>\n      <td>2</td>\n      <td>66</td>\n      <td>1</td>\n      <td>4</td>\n      <td>1</td>\n      <td>5</td>\n      <td>3</td>\n      <td>1</td>\n      <td>2</td>\n      <td>4</td>\n      <td>0</td>\n      <td>0</td>\n      <td>0</td>\n      <td>0</td>\n      <td>0</td>\n      <td>0</td>\n      <td>0</td>\n      <td>0</td>\n      <td>0</td>\n      <td>0</td>\n    </tr>\n    <tr>\n      <th>3</th>\n      <td>2</td>\n      <td>66</td>\n      <td>1</td>\n      <td>4</td>\n      <td>1</td>\n      <td>5</td>\n      <td>3</td>\n      <td>1</td>\n      <td>2</td>\n      <td>4</td>\n      <td>0</td>\n      <td>0</td>\n      <td>0</td>\n      <td>0</td>\n      <td>0</td>\n      <td>0</td>\n      <td>0</td>\n      <td>0</td>\n      <td>0</td>\n      <td>0</td>\n    </tr>\n    <tr>\n      <th>4</th>\n      <td>3</td>\n      <td>84</td>\n      <td>1</td>\n      <td>5</td>\n      <td>2</td>\n      <td>10</td>\n      <td>6</td>\n      <td>3</td>\n      <td>1</td>\n      <td>3</td>\n      <td>0</td>\n      <td>0</td>\n      <td>0</td>\n      <td>0</td>\n      <td>0</td>\n      <td>0</td>\n      <td>0</td>\n      <td>2</td>\n      <td>0</td>\n      <td>0</td>\n    </tr>\n  </tbody>\n</table>\n</div>"
     },
     "execution_count": 11,
     "metadata": {},
     "output_type": "execute_result"
    }
   ],
   "source": [
    "import pandas as pd\n",
    "import numpy as np\n",
    "import time\n",
    "\n",
    "np.random.seed(33)\n",
    "# df.to_csv(\"../data/cleanedOnlyTriage.csv\")\n",
    "df = pd.read_csv(\"../data/featureSelectedAllDataWithY.csv\")\n",
    "# df = df.drop(\"Unnamed: 0\", axis=1)\n",
    "df.head()\n",
    "# print(df.shape)"
   ]
  },
  {
   "cell_type": "markdown",
   "metadata": {},
   "source": [
    "## Read the feature selected columns for training"
   ]
  },
  {
   "cell_type": "code",
   "execution_count": 7,
   "metadata": {
    "pycharm": {
     "name": "#%%\n"
    }
   },
   "outputs": [
    {
     "name": "stdout",
     "output_type": "stream",
     "text": [
      "No. of training examples: 427784\n",
      "No. of testing examples: 106946\n"
     ]
    }
   ],
   "source": [
    "## Split the data into training and testing data\n",
    "from sklearn.model_selection import train_test_split\n",
    "\n",
    "training_data, testing_data = train_test_split(df, test_size=0.2, random_state=25)\n",
    "\n",
    "print(f\"No. of training examples: {training_data.shape[0]}\")\n",
    "print(f\"No. of testing examples: {testing_data.shape[0]}\")"
   ]
  },
  {
   "cell_type": "code",
   "execution_count": null,
   "outputs": [],
   "source": [
    "from sklearn.feature_selection import SelectKBest\n",
    "from sklearn.feature_selection import mutual_info_classif, f_classif\n",
    "\n",
    "y_train = training_data.iloc[:,-1]\n",
    "y_test = testing_data.iloc[:,-1]\n",
    "X_train = training_data.iloc[:,:-1]\n",
    "X_test = testing_data.iloc[:,:-1]\n",
    "\n",
    "y_train = np.array(y_train)\n",
    "y_test = np.array(y_test)\n",
    "X_train = np.array(X_train)\n",
    "X_test = np.array(X_test)\n",
    "\n",
    "start = time.time()\n",
    "selector = SelectKBest(mutual_info_classif, k=20).fit(X_train, y_train)\n",
    "cols = selector.get_support(indices=True)\n",
    "end = time.time()\n",
    "print(cols) #[ 0  3  5  7  9 10 13 23 24 27 46 48 50 54 60 61 62 64 65 69]\n",
    "print(end-start)"
   ],
   "metadata": {
    "collapsed": false,
    "pycharm": {
     "name": "#%%\n"
    }
   }
  },
  {
   "cell_type": "code",
   "execution_count": null,
   "outputs": [],
   "source": [
    "X_train_df = pd.DataFrame(X_train)\n",
    "X_train_smi = X_train_df.iloc[:,cols]\n",
    "X_test_df = pd.DataFrame(X_test)\n",
    "X_test_smi = X_test_df.iloc[:,cols]\n",
    "print(X_train_smi.shape)\n",
    "print(X_test_smi.shape)"
   ],
   "metadata": {
    "collapsed": false,
    "pycharm": {
     "name": "#%%\n"
    }
   }
  },
  {
   "cell_type": "code",
   "execution_count": null,
   "outputs": [],
   "source": [
    "# print(X_train.shape)\n",
    "# print(X_test.shape)\n",
    "# X_test = X_test[:10,]\n",
    "# y_test = y_test[:10,]\n",
    "\n",
    "X_train = np.array(X_train)\n",
    "X_test = np.array(X_test)\n",
    "\n",
    "# LogisticRegression(random_state=0).fit(X, y)"
   ],
   "metadata": {
    "collapsed": false,
    "pycharm": {
     "name": "#%%\n"
    }
   }
  },
  {
   "cell_type": "markdown",
   "source": [
    "Logistic Regression"
   ],
   "metadata": {
    "collapsed": false
   }
  },
  {
   "cell_type": "code",
   "execution_count": null,
   "outputs": [],
   "source": [
    "import pandas as pd\n",
    "import numpy as np\n",
    "import time\n",
    "\n",
    "np.random.seed(33)\n",
    "df = pd.read_csv(\"../data/featureSelectedOnlyTriage.csv\")\n",
    "df = df.drop(df.columns[0],axis=1)\n",
    "# df = df.drop(df.columns[0],axis=1)\n",
    "df.head()"
   ],
   "metadata": {
    "collapsed": false,
    "pycharm": {
     "name": "#%%\n"
    }
   }
  },
  {
   "cell_type": "code",
   "execution_count": null,
   "outputs": [],
   "source": [
    "from sklearn.linear_model import LogisticRegression\n",
    "from sklearn.model_selection import train_test_split\n",
    "\n",
    "training_data, testing_data = train_test_split(df, test_size=0.2, random_state=25)\n",
    "\n",
    "y_train = training_data.iloc[:,-1]\n",
    "y_test = testing_data.iloc[:,-1]\n",
    "X_train = training_data.iloc[:,:-1]\n",
    "X_test = testing_data.iloc[:,:-1]\n",
    "\n",
    "y_train = np.array(y_train)[:100,]\n",
    "y_test = np.array(y_test)[:10,]\n",
    "X_train = np.array(X_train)[:100,]\n",
    "X_test = np.array(X_test)[:10,]\n",
    "clf = LogisticRegression(random_state=0).fit(X_train, y_train)\n",
    "clf.score(X_test,y_test)"
   ],
   "metadata": {
    "collapsed": false,
    "pycharm": {
     "name": "#%%\n"
    }
   }
  },
  {
   "cell_type": "markdown",
   "metadata": {
    "pycharm": {
     "name": "#%% md\n"
    }
   },
   "source": [
    "SVM"
   ]
  },
  {
   "cell_type": "code",
   "execution_count": null,
   "metadata": {
    "pycharm": {
     "name": "#%%\n"
    }
   },
   "outputs": [],
   "source": [
    "from sklearn.svm import SVC\n",
    "from sklearn.pipeline import make_pipeline\n",
    "from sklearn.preprocessing import StandardScaler\n",
    "sv_clf = SVC(kernel=\"linear\",random_state=1)\n",
    "sv_clf.fit(X_train, y_train)\n",
    "\n",
    "from sklearn.metrics import accuracy_score\n",
    "sv_clf_pred = sv_clf.predict(X_test)\n",
    "sv_clf_acc = accuracy_score(y_test,sv_clf_pred)\n",
    "\n",
    "sc_clf_acc_format = round(sv_clf_acc*100,2)\n",
    "print(\"Accuracy of linear SVM model\", sc_clf_acc_format)\n"
   ]
  },
  {
   "cell_type": "code",
   "execution_count": null,
   "metadata": {
    "pycharm": {
     "name": "#%%\n"
    }
   },
   "outputs": [],
   "source": []
  }
 ],
 "metadata": {
  "kernelspec": {
   "display_name": "PyCharm (proj4CM)",
   "language": "python",
   "name": "pycharm-f3dbbc4a"
  },
  "language_info": {
   "codemirror_mode": {
    "name": "ipython",
    "version": 3
   },
   "file_extension": ".py",
   "mimetype": "text/x-python",
   "name": "python",
   "nbconvert_exporter": "python",
   "pygments_lexer": "ipython3",
   "version": "3.7.0"
  }
 },
 "nbformat": 4,
 "nbformat_minor": 1
}