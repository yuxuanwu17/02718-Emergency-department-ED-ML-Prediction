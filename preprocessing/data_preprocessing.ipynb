{
 "cells": [
  {
   "cell_type": "markdown",
   "metadata": {},
   "source": [
    "## Read the feature selected  data frame via mutual information"
   ]
  },
  {
   "cell_type": "code",
   "execution_count": 2,
   "metadata": {},
   "outputs": [
    {
     "name": "stdout",
     "output_type": "stream",
     "text": [
      "(534730, 21)\n"
     ]
    },
    {
     "data": {
      "text/plain": "   esi  age  ethnicity  race  lang  maritalstatus  employstatus  \\\n0    4   40          1     8     1              8             2   \n1    4   66          1     4     1              5             3   \n2    2   66          1     4     1              5             3   \n3    2   66          1     4     1              5             3   \n4    3   84          1     5     2             10             6   \n\n   insurance_status  arrivalmode  previousdispo  ...  meds_analgesics  \\\n0                 4            6              7  ...                0   \n1                 1            2              7  ...                0   \n2                 1            6              3  ...                0   \n3                 1            2              3  ...                0   \n4                 3            6              3  ...                0   \n\n   meds_antiplateletdrugs  meds_cardiacdrugs  meds_cardiovascular  \\\n0                       0                  0                    0   \n1                       0                  0                    0   \n2                       0                  0                    0   \n3                       0                  0                    0   \n4                       0                  0                    2   \n\n   meds_diuretics  meds_elect/caloric/h2o  meds_gastrointestinal  \\\n0               0                       0                      0   \n1               0                       0                      0   \n2               0                       0                      0   \n3               0                       0                      0   \n4               1                       2                      2   \n\n   meds_psychotherapeuticdrugs  meds_vitamins  disposition  \n0                            0              0            2  \n1                            0              0            2  \n2                            0              0            2  \n3                            0              0            2  \n4                            0              1            1  \n\n[5 rows x 21 columns]",
      "text/html": "<div>\n<style scoped>\n    .dataframe tbody tr th:only-of-type {\n        vertical-align: middle;\n    }\n\n    .dataframe tbody tr th {\n        vertical-align: top;\n    }\n\n    .dataframe thead th {\n        text-align: right;\n    }\n</style>\n<table border=\"1\" class=\"dataframe\">\n  <thead>\n    <tr style=\"text-align: right;\">\n      <th></th>\n      <th>esi</th>\n      <th>age</th>\n      <th>ethnicity</th>\n      <th>race</th>\n      <th>lang</th>\n      <th>maritalstatus</th>\n      <th>employstatus</th>\n      <th>insurance_status</th>\n      <th>arrivalmode</th>\n      <th>previousdispo</th>\n      <th>...</th>\n      <th>meds_analgesics</th>\n      <th>meds_antiplateletdrugs</th>\n      <th>meds_cardiacdrugs</th>\n      <th>meds_cardiovascular</th>\n      <th>meds_diuretics</th>\n      <th>meds_elect/caloric/h2o</th>\n      <th>meds_gastrointestinal</th>\n      <th>meds_psychotherapeuticdrugs</th>\n      <th>meds_vitamins</th>\n      <th>disposition</th>\n    </tr>\n  </thead>\n  <tbody>\n    <tr>\n      <th>0</th>\n      <td>4</td>\n      <td>40</td>\n      <td>1</td>\n      <td>8</td>\n      <td>1</td>\n      <td>8</td>\n      <td>2</td>\n      <td>4</td>\n      <td>6</td>\n      <td>7</td>\n      <td>...</td>\n      <td>0</td>\n      <td>0</td>\n      <td>0</td>\n      <td>0</td>\n      <td>0</td>\n      <td>0</td>\n      <td>0</td>\n      <td>0</td>\n      <td>0</td>\n      <td>2</td>\n    </tr>\n    <tr>\n      <th>1</th>\n      <td>4</td>\n      <td>66</td>\n      <td>1</td>\n      <td>4</td>\n      <td>1</td>\n      <td>5</td>\n      <td>3</td>\n      <td>1</td>\n      <td>2</td>\n      <td>7</td>\n      <td>...</td>\n      <td>0</td>\n      <td>0</td>\n      <td>0</td>\n      <td>0</td>\n      <td>0</td>\n      <td>0</td>\n      <td>0</td>\n      <td>0</td>\n      <td>0</td>\n      <td>2</td>\n    </tr>\n    <tr>\n      <th>2</th>\n      <td>2</td>\n      <td>66</td>\n      <td>1</td>\n      <td>4</td>\n      <td>1</td>\n      <td>5</td>\n      <td>3</td>\n      <td>1</td>\n      <td>6</td>\n      <td>3</td>\n      <td>...</td>\n      <td>0</td>\n      <td>0</td>\n      <td>0</td>\n      <td>0</td>\n      <td>0</td>\n      <td>0</td>\n      <td>0</td>\n      <td>0</td>\n      <td>0</td>\n      <td>2</td>\n    </tr>\n    <tr>\n      <th>3</th>\n      <td>2</td>\n      <td>66</td>\n      <td>1</td>\n      <td>4</td>\n      <td>1</td>\n      <td>5</td>\n      <td>3</td>\n      <td>1</td>\n      <td>2</td>\n      <td>3</td>\n      <td>...</td>\n      <td>0</td>\n      <td>0</td>\n      <td>0</td>\n      <td>0</td>\n      <td>0</td>\n      <td>0</td>\n      <td>0</td>\n      <td>0</td>\n      <td>0</td>\n      <td>2</td>\n    </tr>\n    <tr>\n      <th>4</th>\n      <td>3</td>\n      <td>84</td>\n      <td>1</td>\n      <td>5</td>\n      <td>2</td>\n      <td>10</td>\n      <td>6</td>\n      <td>3</td>\n      <td>6</td>\n      <td>3</td>\n      <td>...</td>\n      <td>0</td>\n      <td>0</td>\n      <td>0</td>\n      <td>2</td>\n      <td>1</td>\n      <td>2</td>\n      <td>2</td>\n      <td>0</td>\n      <td>1</td>\n      <td>1</td>\n    </tr>\n  </tbody>\n</table>\n<p>5 rows × 21 columns</p>\n</div>"
     },
     "execution_count": 2,
     "metadata": {},
     "output_type": "execute_result"
    }
   ],
   "source": [
    "import pandas as pd\n",
    "import numpy as np\n",
    "import time\n",
    "\n",
    "np.random.seed(33)\n",
    "df = pd.read_csv(\"../data/featureSelectedAllDataWithY.csv\")\n",
    "# df = pd.read_csv(\"../data/Cleaned_dat_encoded.csv\")\n",
    "print(df.shape)\n",
    "df.head()"
   ]
  },
  {
   "cell_type": "markdown",
   "metadata": {},
   "source": [
    "## Correlation analysis"
   ]
  },
  {
   "cell_type": "code",
   "execution_count": 3,
   "metadata": {
    "pycharm": {
     "name": "#%%\n"
    }
   },
   "outputs": [
    {
     "data": {
      "text/plain": "esi                            0.431877\nage                           -0.374109\nrace                          -0.136434\nemploystatus                  -0.135497\narrivalmode                    0.177370\npreviousdispo                  0.145210\nhtn                           -0.261439\nmeds_analgesics               -0.338007\nmeds_antiplateletdrugs        -0.333516\nmeds_cardiacdrugs             -0.308993\nmeds_cardiovascular           -0.441590\nmeds_diuretics                -0.317732\nmeds_elect/caloric/h2o        -0.308729\nmeds_gastrointestinal         -0.390537\nmeds_psychotherapeuticdrugs   -0.323160\nmeds_vitamins                 -0.348034\ndisposition                    1.000000\nName: disposition, dtype: float64"
     },
     "execution_count": 3,
     "metadata": {},
     "output_type": "execute_result"
    }
   ],
   "source": [
    "health_data = df.copy()\n",
    "\n",
    "feature_corr = health_data.corr()\n",
    "feature_corr[abs(feature_corr['disposition']) > 0.1]['disposition']"
   ]
  },
  {
   "cell_type": "code",
   "execution_count": 4,
   "outputs": [
    {
     "name": "stdout",
     "output_type": "stream",
     "text": [
      "esi                            0.431877\n",
      "age                           -0.374109\n",
      "htn                           -0.261439\n",
      "meds_analgesics               -0.338007\n",
      "meds_antiplateletdrugs        -0.333516\n",
      "meds_cardiacdrugs             -0.308993\n",
      "meds_cardiovascular           -0.441590\n",
      "meds_diuretics                -0.317732\n",
      "meds_elect/caloric/h2o        -0.308729\n",
      "meds_gastrointestinal         -0.390537\n",
      "meds_psychotherapeuticdrugs   -0.323160\n",
      "meds_vitamins                 -0.348034\n",
      "disposition                    1.000000\n",
      "Name: disposition, dtype: float64\n",
      "13\n"
     ]
    }
   ],
   "source": [
    "print(feature_corr[abs(feature_corr['disposition']) > 0.2]['disposition'])\n",
    "print(len(feature_corr[abs(feature_corr['disposition']) > 0.2]['disposition']))"
   ],
   "metadata": {
    "collapsed": false,
    "pycharm": {
     "name": "#%%\n"
    }
   }
  },
  {
   "cell_type": "markdown",
   "source": [
    "## Read the feature selected columns for training"
   ],
   "metadata": {
    "collapsed": false
   }
  },
  {
   "cell_type": "code",
   "execution_count": 5,
   "outputs": [
    {
     "name": "stdout",
     "output_type": "stream",
     "text": [
      "No. of training examples: 427784\n",
      "No. of testing examples: 106946\n"
     ]
    }
   ],
   "source": [
    "## Split the data into training and testing data\n",
    "from sklearn.model_selection import train_test_split\n",
    "\n",
    "training_data, testing_data = train_test_split(df, test_size=0.2, random_state=25,shuffle=True)\n",
    "\n",
    "print(f\"No. of training examples: {training_data.shape[0]}\")\n",
    "print(f\"No. of testing examples: {testing_data.shape[0]}\")"
   ],
   "metadata": {
    "collapsed": false,
    "pycharm": {
     "name": "#%%\n"
    }
   }
  },
  {
   "cell_type": "code",
   "source": [
    "from sklearn.preprocessing import StandardScaler\n",
    "y_train = training_data['disposition']\n",
    "y_test = testing_data['disposition']\n",
    "X_train = StandardScaler().fit_transform(training_data.drop(\"disposition\",axis = 1))\n",
    "X_test = StandardScaler().fit_transform(testing_data.drop(\"disposition\",axis = 1))\n",
    "\n",
    "\n",
    "# y_train = np.array(y_train)\n",
    "# y_test = np.array(y_test)\n",
    "# X_train = np.array(X_train)\n",
    "# X_test = np.array(X_test)\n",
    "y_train = np.array(y_train)[:100]\n",
    "y_test = np.array(y_test)[:10]\n",
    "X_train = np.array(X_train)[:100,]\n",
    "X_test = np.array(X_test)[:10,]"
   ],
   "metadata": {
    "collapsed": false,
    "pycharm": {
     "name": "#%%\n"
    }
   },
   "execution_count": 6,
   "outputs": []
  },
  {
   "cell_type": "markdown",
   "source": [
    "## Logistic Regression simple demo (Validate it could run)"
   ],
   "metadata": {
    "collapsed": false,
    "pycharm": {
     "name": "#%% md\n"
    }
   }
  },
  {
   "cell_type": "code",
   "source": [
    "from sklearn.linear_model import LogisticRegression\n",
    "from sklearn.metrics import confusion_matrix, accuracy_score\n",
    "clf = LogisticRegression(random_state=0).fit(X_train, y_train)\n",
    "# Predicting the test set\n",
    "\n",
    "y_pred = clf.predict(X_test)\n",
    "# Making Confusion Matrix and calculating accuracy score\n",
    "\n",
    "mylist = []\n",
    "cm = confusion_matrix(y_test, y_pred)\n",
    "ac = accuracy_score(y_test, y_pred)\n",
    "mylist.append(ac)\n",
    "print(cm)\n",
    "print(ac)"
   ],
   "metadata": {
    "collapsed": false,
    "pycharm": {
     "name": "#%%\n"
    }
   },
   "execution_count": 7,
   "outputs": [
    {
     "name": "stdout",
     "output_type": "stream",
     "text": [
      "[[19723 13112]\n",
      " [ 3952 70159]]\n",
      "0.8404428403119332\n"
     ]
    }
   ]
  },
  {
   "cell_type": "markdown",
   "source": [
    "## 10 fold cross validation for the previous logistic regression model"
   ],
   "metadata": {
    "collapsed": false
   }
  },
  {
   "cell_type": "code",
   "source": [
    "from sklearn.model_selection import cross_val_score, LeaveOneOut\n",
    "health_data = df.copy()\n",
    "X = StandardScaler().fit_transform(health_data.drop(\"disposition\",axis = 1))\n",
    "y = health_data[\"disposition\"]\n",
    "scores = cross_val_score(clf,X,y,cv=10)"
   ],
   "metadata": {
    "collapsed": false,
    "pycharm": {
     "name": "#%% \n"
    }
   },
   "execution_count": 11,
   "outputs": []
  },
  {
   "cell_type": "code",
   "source": [
    "print(np.mean(scores))"
   ],
   "metadata": {
    "collapsed": false,
    "pycharm": {
     "name": "#%%\n"
    }
   },
   "execution_count": 12,
   "outputs": [
    {
     "name": "stdout",
     "output_type": "stream",
     "text": [
      "0.8378882800665757\n"
     ]
    }
   ]
  },
  {
   "cell_type": "markdown",
   "source": [
    "## Various logistic regression model with different hyperparameters comparison"
   ],
   "metadata": {
    "collapsed": false,
    "pycharm": {
     "name": "#%% md\n"
    }
   }
  },
  {
   "cell_type": "code",
   "metadata": {
    "pycharm": {
     "name": "#%%\n"
    }
   },
   "source": [
    "# Train a classifier using Logistic Regression (LR) without regularization.  Logistic Regression produces linear models. We will try several variants of LR.\n",
    "LR_vanilla = LogisticRegression(penalty='none').fit(X_train,y_train)\n",
    "\n",
    "print(\"first finished\")\n",
    "# Train a classifier using Logistic Regression (LR) with l1 regularization, which is a form of embedded feature selection.\n",
    "LR_l1 = LogisticRegression(penalty='l1',solver='saga',max_iter=5000).fit(X_train,y_train)\n",
    "print(\"second finished\")\n",
    "\n",
    "# Train a classifier using Logistic Regression (LR) with l2 regularization.\n",
    "LR_l2 = LogisticRegression(penalty='l2',solver='saga',max_iter=5000).fit(X_train,y_train)\n",
    "print(\"Third finished\")\n",
    "\n",
    "# Train a classifier using Logistic Regression (LR) with elastic net regularization. Elastic net regularization is a combination of L1 and L2 regularization.\n",
    "LR_en = LogisticRegression(penalty='elasticnet',solver='saga',l1_ratio=0.2,max_iter=5000).fit(X_train,y_train)\n",
    "print(\"Forth finished\")"
   ],
   "execution_count": null,
   "outputs": []
  },
  {
   "cell_type": "markdown",
   "metadata": {
    "pycharm": {
     "name": "#%% md\n"
    }
   },
   "source": [
    "## Confusion matrix"
   ]
  },
  {
   "cell_type": "code",
   "execution_count": 8,
   "outputs": [
    {
     "data": {
      "text/plain": "<Figure size 432x288 with 2 Axes>",
      "image/png": "[encoded data removed]"
     },
     "metadata": {
      "needs_background": "light"
     },
     "output_type": "display_data"
    }
   ],
   "source": [
    "%matplotlib inline\n",
    "import matplotlib.pyplot as plt\n",
    "from sklearn.metrics import confusion_matrix, plot_confusion_matrix\n",
    "plot_confusion_matrix(clf,X_test,y_test)\n",
    "plt.title(\"SVC Model - Confusion Matrix\")\n",
    "plt.xticks(range(2), [\"Admitted\", \"Rejected\"], fontsize=8)\n",
    "plt.yticks(range(2), [\"Admitted\", \"Rejected\"], fontsize=8)\n",
    "plt.show()"
   ],
   "metadata": {
    "collapsed": false,
    "pycharm": {
     "name": "#%%\n"
    }
   }
  },
  {
   "cell_type": "markdown",
   "source": [
    "## Precision Recall curve"
   ],
   "metadata": {
    "collapsed": false
   }
  },
  {
   "cell_type": "code",
   "execution_count": 9,
   "outputs": [
    {
     "data": {
      "text/plain": "<sklearn.metrics._plot.precision_recall_curve.PrecisionRecallDisplay at 0x7fd9159f2e10>"
     },
     "execution_count": 9,
     "metadata": {},
     "output_type": "execute_result"
    },
    {
     "data": {
      "text/plain": "<Figure size 432x288 with 1 Axes>",
      "image/png": "[encoded data removed]"
     },
     "metadata": {
      "needs_background": "light"
     },
     "output_type": "display_data"
    }
   ],
   "source": [
    "from sklearn.metrics import plot_roc_curve, plot_precision_recall_curve\n",
    "plot_precision_recall_curve(clf,X_test,y_test)"
   ],
   "metadata": {
    "collapsed": false,
    "pycharm": {
     "name": "#%%\n"
    }
   }
  },
  {
   "cell_type": "markdown",
   "source": [
    "## ROC curve"
   ],
   "metadata": {
    "collapsed": false
   }
  },
  {
   "cell_type": "code",
   "execution_count": null,
   "outputs": [],
   "source": [
    "plot_roc_curve(clf,X_test,y_test)"
   ],
   "metadata": {
    "collapsed": false,
    "pycharm": {
     "name": "#%%\n"
    }
   }
  },
  {
   "cell_type": "markdown",
   "source": [
    "## Quantative matrix"
   ],
   "metadata": {
    "collapsed": false
   }
  },
  {
   "cell_type": "code",
   "execution_count": 10,
   "outputs": [
    {
     "name": "stdout",
     "output_type": "stream",
     "text": [
      "              precision    recall  f1-score   support\n",
      "\n",
      "          No       0.75      1.00      0.86         3\n",
      "         Yes       1.00      0.86      0.92         7\n",
      "\n",
      "    accuracy                           0.90        10\n",
      "   macro avg       0.88      0.93      0.89        10\n",
      "weighted avg       0.93      0.90      0.90        10\n",
      "\n",
      "Balanced Accuracy:0.93\n",
      "Matthews Corr Coef:0.80\n"
     ]
    }
   ],
   "source": [
    "from sklearn.metrics import classification_report\n",
    "from sklearn.metrics import matthews_corrcoef\n",
    "from sklearn.metrics import balanced_accuracy_score\n",
    "\n",
    "print(classification_report(y_test, y_pred, target_names=['No', 'Yes']))\n",
    "print(\"Balanced Accuracy:\" + format(balanced_accuracy_score(y_test,y_pred),'.2f'))\n",
    "print(\"Matthews Corr Coef:\" + format(matthews_corrcoef(y_test,y_pred),'.2f'))"
   ],
   "metadata": {
    "collapsed": false,
    "pycharm": {
     "name": "#%%\n"
    }
   }
  },
  {
   "cell_type": "markdown",
   "source": [
    "## Visualize the feature importance function\n"
   ],
   "metadata": {
    "collapsed": false
   }
  },
  {
   "cell_type": "code",
   "execution_count": 11,
   "outputs": [],
   "source": [
    "\n",
    "def feature_plot(classifier, feature_names, top_features=10):\n",
    "    coef = classifier.coef_.ravel()\n",
    "    top_positive_coefficients = np.argsort(coef)[-top_features:]\n",
    "    top_negative_coefficients = np.argsort(coef)[:top_features]\n",
    "    middle_coefficient = np.argsort(coef)[top_features]\n",
    "    top_coefficients = np.hstack([top_negative_coefficients, middle_coefficient, top_positive_coefficients])\n",
    "    plt.figure(figsize=(18, 7))\n",
    "    colors = ['green' if c < 0 else 'blue' for c in coef[top_coefficients]]\n",
    "    plt.bar(np.arange(2 * top_features+1), coef[top_coefficients], color=colors)\n",
    "    feature_names = np.array(feature_names)\n",
    "    plt.xticks(np.arange(2 * top_features+1), feature_names[top_coefficients], rotation=45, ha='right')\n",
    "\n",
    "    plt.show()"
   ],
   "metadata": {
    "collapsed": false,
    "pycharm": {
     "name": "#%%\n"
    }
   }
  },
  {
   "cell_type": "markdown",
   "source": [
    "## Feature importance in Logistic regression"
   ],
   "metadata": {
    "collapsed": false
   }
  },
  {
   "cell_type": "code",
   "execution_count": 12,
   "outputs": [
    {
     "ename": "AttributeError",
     "evalue": "Coefficients are not defined for Booster type None",
     "output_type": "error",
     "traceback": [
      "\u001B[0;31m---------------------------------------------------------------------------\u001B[0m",
      "\u001B[0;31mAttributeError\u001B[0m                            Traceback (most recent call last)",
      "\u001B[0;32m<ipython-input-12-e50b55f5fe13>\u001B[0m in \u001B[0;36m<module>\u001B[0;34m\u001B[0m\n\u001B[1;32m      1\u001B[0m \u001B[0mhealth_data\u001B[0m \u001B[0;34m=\u001B[0m \u001B[0mdf\u001B[0m\u001B[0;34m.\u001B[0m\u001B[0mcopy\u001B[0m\u001B[0;34m(\u001B[0m\u001B[0;34m)\u001B[0m\u001B[0;34m\u001B[0m\u001B[0m\n\u001B[0;32m----> 2\u001B[0;31m \u001B[0mfeature_plot\u001B[0m\u001B[0;34m(\u001B[0m\u001B[0mclf\u001B[0m\u001B[0;34m,\u001B[0m \u001B[0mhealth_data\u001B[0m\u001B[0;34m.\u001B[0m\u001B[0mdrop\u001B[0m\u001B[0;34m(\u001B[0m\u001B[0;34m[\u001B[0m\u001B[0;34m'disposition'\u001B[0m\u001B[0;34m]\u001B[0m\u001B[0;34m,\u001B[0m \u001B[0maxis\u001B[0m\u001B[0;34m=\u001B[0m\u001B[0;36m1\u001B[0m\u001B[0;34m)\u001B[0m\u001B[0;34m.\u001B[0m\u001B[0mcolumns\u001B[0m\u001B[0;34m.\u001B[0m\u001B[0mvalues\u001B[0m\u001B[0;34m)\u001B[0m\u001B[0;34m\u001B[0m\u001B[0m\n\u001B[0m\u001B[1;32m      3\u001B[0m \u001B[0;34m\u001B[0m\u001B[0m\n",
      "\u001B[0;32m<ipython-input-11-eaef3cf23515>\u001B[0m in \u001B[0;36mfeature_plot\u001B[0;34m(classifier, feature_names, top_features)\u001B[0m\n\u001B[1;32m      1\u001B[0m \u001B[0;32mdef\u001B[0m \u001B[0mfeature_plot\u001B[0m\u001B[0;34m(\u001B[0m\u001B[0mclassifier\u001B[0m\u001B[0;34m,\u001B[0m \u001B[0mfeature_names\u001B[0m\u001B[0;34m,\u001B[0m \u001B[0mtop_features\u001B[0m\u001B[0;34m=\u001B[0m\u001B[0;36m10\u001B[0m\u001B[0;34m)\u001B[0m\u001B[0;34m:\u001B[0m\u001B[0;34m\u001B[0m\u001B[0m\n\u001B[0;32m----> 2\u001B[0;31m     \u001B[0mcoef\u001B[0m \u001B[0;34m=\u001B[0m \u001B[0mclassifier\u001B[0m\u001B[0;34m.\u001B[0m\u001B[0mcoef_\u001B[0m\u001B[0;34m.\u001B[0m\u001B[0mravel\u001B[0m\u001B[0;34m(\u001B[0m\u001B[0;34m)\u001B[0m\u001B[0;34m\u001B[0m\u001B[0m\n\u001B[0m\u001B[1;32m      3\u001B[0m     \u001B[0mtop_positive_coefficients\u001B[0m \u001B[0;34m=\u001B[0m \u001B[0mnp\u001B[0m\u001B[0;34m.\u001B[0m\u001B[0margsort\u001B[0m\u001B[0;34m(\u001B[0m\u001B[0mcoef\u001B[0m\u001B[0;34m)\u001B[0m\u001B[0;34m[\u001B[0m\u001B[0;34m-\u001B[0m\u001B[0mtop_features\u001B[0m\u001B[0;34m:\u001B[0m\u001B[0;34m]\u001B[0m\u001B[0;34m\u001B[0m\u001B[0m\n\u001B[1;32m      4\u001B[0m     \u001B[0mtop_negative_coefficients\u001B[0m \u001B[0;34m=\u001B[0m \u001B[0mnp\u001B[0m\u001B[0;34m.\u001B[0m\u001B[0margsort\u001B[0m\u001B[0;34m(\u001B[0m\u001B[0mcoef\u001B[0m\u001B[0;34m)\u001B[0m\u001B[0;34m[\u001B[0m\u001B[0;34m:\u001B[0m\u001B[0mtop_features\u001B[0m\u001B[0;34m]\u001B[0m\u001B[0;34m\u001B[0m\u001B[0m\n\u001B[1;32m      5\u001B[0m     \u001B[0mmiddle_coefficient\u001B[0m \u001B[0;34m=\u001B[0m \u001B[0mnp\u001B[0m\u001B[0;34m.\u001B[0m\u001B[0margsort\u001B[0m\u001B[0;34m(\u001B[0m\u001B[0mcoef\u001B[0m\u001B[0;34m)\u001B[0m\u001B[0;34m[\u001B[0m\u001B[0mtop_features\u001B[0m\u001B[0;34m]\u001B[0m\u001B[0;34m\u001B[0m\u001B[0m\n",
      "\u001B[0;32m~/opt/anaconda3/envs/dp3.7/lib/python3.7/site-packages/xgboost/sklearn.py\u001B[0m in \u001B[0;36mcoef_\u001B[0;34m(self)\u001B[0m\n\u001B[1;32m    763\u001B[0m             raise AttributeError(\n\u001B[1;32m    764\u001B[0m                 \u001B[0;34m'Coefficients are not defined for Booster type {}'\u001B[0m\u001B[0;34m\u001B[0m\u001B[0m\n\u001B[0;32m--> 765\u001B[0;31m                 .format(self.booster))\n\u001B[0m\u001B[1;32m    766\u001B[0m         \u001B[0mb\u001B[0m \u001B[0;34m=\u001B[0m \u001B[0mself\u001B[0m\u001B[0;34m.\u001B[0m\u001B[0mget_booster\u001B[0m\u001B[0;34m(\u001B[0m\u001B[0;34m)\u001B[0m\u001B[0;34m\u001B[0m\u001B[0m\n\u001B[1;32m    767\u001B[0m         coef = np.array(json.loads(\n",
      "\u001B[0;31mAttributeError\u001B[0m: Coefficients are not defined for Booster type None"
     ]
    }
   ],
   "source": [
    "health_data = df.copy()\n",
    "feature_plot(clf, health_data.drop(['disposition'], axis=1).columns.values)"
   ],
   "metadata": {
    "collapsed": false,
    "pycharm": {
     "name": "#%%\n"
    }
   }
  },
  {
   "cell_type": "markdown",
   "source": [
    "## Learning curve"
   ],
   "metadata": {
    "collapsed": false
   }
  },
  {
   "cell_type": "code",
   "execution_count": 13,
   "outputs": [],
   "source": [
    "from sklearn.model_selection import learning_curve\n",
    "def plot_learning_curve(estimator, title, X, y, axes=None, ylim=None, cv=None,\n",
    "                        n_jobs=None, train_sizes=np.linspace(.1, 1.0, 5)):\n",
    "    if axes is None:\n",
    "        _, axes = plt.subplots(1, 3, figsize=(20, 5))\n",
    "\n",
    "    axes[0].set_title(title)\n",
    "    if ylim is not None:\n",
    "        axes[0].set_ylim(*ylim)\n",
    "    axes[0].set_xlabel(\"Training examples\")\n",
    "    axes[0].set_ylabel(\"Score\")\n",
    "\n",
    "    train_sizes, train_scores, test_scores, fit_times, _ = \\\n",
    "        learning_curve(estimator, X, y, cv=cv, n_jobs=n_jobs,\n",
    "                       train_sizes=train_sizes,\n",
    "                       return_times=True)\n",
    "    train_scores_mean = np.mean(train_scores, axis=1)\n",
    "    train_scores_std = np.std(train_scores, axis=1)\n",
    "    test_scores_mean = np.mean(test_scores, axis=1)\n",
    "    test_scores_std = np.std(test_scores, axis=1)\n",
    "    fit_times_mean = np.mean(fit_times, axis=1)\n",
    "    fit_times_std = np.std(fit_times, axis=1)\n",
    "\n",
    "    # Plot learning curve\n",
    "    axes[0].grid()\n",
    "    axes[0].fill_between(train_sizes, train_scores_mean - train_scores_std,\n",
    "                         train_scores_mean + train_scores_std, alpha=0.1,\n",
    "                         color=\"r\")\n",
    "    axes[0].fill_between(train_sizes, test_scores_mean - test_scores_std,\n",
    "                         test_scores_mean + test_scores_std, alpha=0.1,\n",
    "                         color=\"g\")\n",
    "    axes[0].plot(train_sizes, train_scores_mean, 'o-', color=\"r\",\n",
    "                 label=\"Training score\")\n",
    "    axes[0].plot(train_sizes, test_scores_mean, 'o-', color=\"g\",\n",
    "                 label=\"Cross-validation score\")\n",
    "    axes[0].legend(loc=\"best\")\n",
    "\n",
    "    # Plot n_samples vs fit_times\n",
    "    axes[1].grid()\n",
    "    axes[1].plot(train_sizes, fit_times_mean, 'o-')\n",
    "    axes[1].fill_between(train_sizes, fit_times_mean - fit_times_std,\n",
    "                         fit_times_mean + fit_times_std, alpha=0.1)\n",
    "    axes[1].set_xlabel(\"Training examples\")\n",
    "    axes[1].set_ylabel(\"fit_times\")\n",
    "    axes[1].set_title(\"Scalability of the model\")\n",
    "\n",
    "    # Plot fit_time vs score\n",
    "    axes[2].grid()\n",
    "    axes[2].plot(fit_times_mean, test_scores_mean, 'o-')\n",
    "    axes[2].fill_between(fit_times_mean, test_scores_mean - test_scores_std,\n",
    "                         test_scores_mean + test_scores_std, alpha=0.1)\n",
    "    axes[2].set_xlabel(\"fit_times\")\n",
    "    axes[2].set_ylabel(\"Score\")\n",
    "    axes[2].set_title(\"Performance of the model\")\n",
    "\n",
    "    return plt"
   ],
   "metadata": {
    "collapsed": false,
    "pycharm": {
     "name": "#%%\n"
    }
   }
  },
  {
   "cell_type": "code",
   "execution_count": 14,
   "outputs": [
    {
     "data": {
      "text/plain": "<Figure size 1440x360 with 3 Axes>",
      "image/png": "[encoded data removed]"
     },
     "metadata": {
      "needs_background": "light"
     },
     "output_type": "display_data"
    }
   ],
   "source": [
    "health_data = df.copy()\n",
    "\n",
    "title = \"Learning Curves (Logistic regression)\"\n",
    "\n",
    "\n",
    "## 会巨慢无比，千万别跑\n",
    "plot_learning_curve(clf, title, X_train, y_train, ylim=(0.5, 1.01),\n",
    "                     n_jobs=10)\n",
    "\n",
    "plt.show()"
   ],
   "metadata": {
    "collapsed": false,
    "pycharm": {
     "name": "#%%\n"
    }
   }
  },
  {
   "cell_type": "markdown",
   "source": [
    "# XGBoost"
   ],
   "metadata": {
    "collapsed": false
   }
  },
  {
   "cell_type": "code",
   "execution_count": 1,
   "outputs": [
    {
     "name": "stdout",
     "output_type": "stream",
     "text": [
      "(534730, 584)\n"
     ]
    },
    {
     "data": {
      "text/plain": "   dep_name  esi  age  gender  ethnicity  race  lang  religion  maritalstatus  \\\n0         2    4   40       2          1     8     1         9              8   \n1         2    4   66       2          1     4     1        11              5   \n2         2    2   66       2          1     4     1        11              5   \n3         3    2   66       2          1     4     1        11              5   \n4         3    3   84       1          1     5     2        11             10   \n\n   employstatus  ...  cc_vaginaldischarge  cc_vaginalpain  cc_weakness  \\\n0             2  ...                    0               0            0   \n1             3  ...                    0               0            0   \n2             3  ...                    0               0            0   \n3             3  ...                    0               0            0   \n4             6  ...                    0               0            0   \n\n   cc_wheezing  cc_withdrawal-alcohol  cc_woundcheck  cc_woundinfection  \\\n0            0                      0              0                  0   \n1            0                      0              0                  0   \n2            0                      0              0                  0   \n3            0                      0              0                  0   \n4            0                      0              0                  0   \n\n   cc_woundre-evaluation  cc_wristinjury  cc_wristpain  \n0                      0               0             0  \n1                      0               0             0  \n2                      0               0             0  \n3                      0               0             0  \n4                      0               0             0  \n\n[5 rows x 584 columns]",
      "text/html": "<div>\n<style scoped>\n    .dataframe tbody tr th:only-of-type {\n        vertical-align: middle;\n    }\n\n    .dataframe tbody tr th {\n        vertical-align: top;\n    }\n\n    .dataframe thead th {\n        text-align: right;\n    }\n</style>\n<table border=\"1\" class=\"dataframe\">\n  <thead>\n    <tr style=\"text-align: right;\">\n      <th></th>\n      <th>dep_name</th>\n      <th>esi</th>\n      <th>age</th>\n      <th>gender</th>\n      <th>ethnicity</th>\n      <th>race</th>\n      <th>lang</th>\n      <th>religion</th>\n      <th>maritalstatus</th>\n      <th>employstatus</th>\n      <th>...</th>\n      <th>cc_vaginaldischarge</th>\n      <th>cc_vaginalpain</th>\n      <th>cc_weakness</th>\n      <th>cc_wheezing</th>\n      <th>cc_withdrawal-alcohol</th>\n      <th>cc_woundcheck</th>\n      <th>cc_woundinfection</th>\n      <th>cc_woundre-evaluation</th>\n      <th>cc_wristinjury</th>\n      <th>cc_wristpain</th>\n    </tr>\n  </thead>\n  <tbody>\n    <tr>\n      <th>0</th>\n      <td>2</td>\n      <td>4</td>\n      <td>40</td>\n      <td>2</td>\n      <td>1</td>\n      <td>8</td>\n      <td>1</td>\n      <td>9</td>\n      <td>8</td>\n      <td>2</td>\n      <td>...</td>\n      <td>0</td>\n      <td>0</td>\n      <td>0</td>\n      <td>0</td>\n      <td>0</td>\n      <td>0</td>\n      <td>0</td>\n      <td>0</td>\n      <td>0</td>\n      <td>0</td>\n    </tr>\n    <tr>\n      <th>1</th>\n      <td>2</td>\n      <td>4</td>\n      <td>66</td>\n      <td>2</td>\n      <td>1</td>\n      <td>4</td>\n      <td>1</td>\n      <td>11</td>\n      <td>5</td>\n      <td>3</td>\n      <td>...</td>\n      <td>0</td>\n      <td>0</td>\n      <td>0</td>\n      <td>0</td>\n      <td>0</td>\n      <td>0</td>\n      <td>0</td>\n      <td>0</td>\n      <td>0</td>\n      <td>0</td>\n    </tr>\n    <tr>\n      <th>2</th>\n      <td>2</td>\n      <td>2</td>\n      <td>66</td>\n      <td>2</td>\n      <td>1</td>\n      <td>4</td>\n      <td>1</td>\n      <td>11</td>\n      <td>5</td>\n      <td>3</td>\n      <td>...</td>\n      <td>0</td>\n      <td>0</td>\n      <td>0</td>\n      <td>0</td>\n      <td>0</td>\n      <td>0</td>\n      <td>0</td>\n      <td>0</td>\n      <td>0</td>\n      <td>0</td>\n    </tr>\n    <tr>\n      <th>3</th>\n      <td>3</td>\n      <td>2</td>\n      <td>66</td>\n      <td>2</td>\n      <td>1</td>\n      <td>4</td>\n      <td>1</td>\n      <td>11</td>\n      <td>5</td>\n      <td>3</td>\n      <td>...</td>\n      <td>0</td>\n      <td>0</td>\n      <td>0</td>\n      <td>0</td>\n      <td>0</td>\n      <td>0</td>\n      <td>0</td>\n      <td>0</td>\n      <td>0</td>\n      <td>0</td>\n    </tr>\n    <tr>\n      <th>4</th>\n      <td>3</td>\n      <td>3</td>\n      <td>84</td>\n      <td>1</td>\n      <td>1</td>\n      <td>5</td>\n      <td>2</td>\n      <td>11</td>\n      <td>10</td>\n      <td>6</td>\n      <td>...</td>\n      <td>0</td>\n      <td>0</td>\n      <td>0</td>\n      <td>0</td>\n      <td>0</td>\n      <td>0</td>\n      <td>0</td>\n      <td>0</td>\n      <td>0</td>\n      <td>0</td>\n    </tr>\n  </tbody>\n</table>\n<p>5 rows × 584 columns</p>\n</div>"
     },
     "execution_count": 1,
     "metadata": {},
     "output_type": "execute_result"
    }
   ],
   "source": [
    "import pandas as pd\n",
    "import numpy as np\n",
    "import time\n",
    "\n",
    "\n",
    "np.random.seed(33)\n",
    "# df = pd.read_csv(\"../data/featureSelectedAllDataWithY.csv\")\n",
    "df = pd.read_csv(\"../data/Cleaned_dat_encoded.csv\")\n",
    "print(df.shape)\n",
    "df.head()"
   ],
   "metadata": {
    "collapsed": false,
    "pycharm": {
     "name": "#%%\n"
    }
   }
  },
  {
   "cell_type": "code",
   "execution_count": 2,
   "outputs": [
    {
     "name": "stdout",
     "output_type": "stream",
     "text": [
      "No. of training examples: 427784\n",
      "No. of testing examples: 106946\n"
     ]
    }
   ],
   "source": [
    "## Split the data into training and testing data\n",
    "from sklearn.model_selection import train_test_split\n",
    "\n",
    "training_data, testing_data = train_test_split(df, test_size=0.2, random_state=25,shuffle=True)\n",
    "\n",
    "print(f\"No. of training examples: {training_data.shape[0]}\")\n",
    "print(f\"No. of testing examples: {testing_data.shape[0]}\")"
   ],
   "metadata": {
    "collapsed": false,
    "pycharm": {
     "name": "#%%\n"
    }
   }
  },
  {
   "cell_type": "code",
   "execution_count": 3,
   "outputs": [],
   "source": [
    "from sklearn.preprocessing import StandardScaler\n",
    "y_train = training_data['disposition']\n",
    "y_test = testing_data['disposition']\n",
    "X_train = StandardScaler().fit_transform(training_data.drop(\"disposition\",axis = 1))\n",
    "X_test = StandardScaler().fit_transform(testing_data.drop(\"disposition\",axis = 1))\n",
    "\n",
    "# y_train = np.array(y_train)\n",
    "# y_test = np.array(y_test)\n",
    "# X_train = np.array(X_train)\n",
    "# X_test = np.array(X_test)\n",
    "y_train = np.array(y_train)[:100]\n",
    "y_test = np.array(y_test)[:10]\n",
    "X_train = np.array(X_train)[:100,]\n",
    "X_test = np.array(X_test)[:10,]\n"
   ],
   "metadata": {
    "collapsed": false,
    "pycharm": {
     "name": "#%%\n"
    }
   }
  },
  {
   "cell_type": "code",
   "execution_count": 6,
   "outputs": [
    {
     "name": "stderr",
     "output_type": "stream",
     "text": [
      "/Users/yuxuan/opt/anaconda3/envs/dp3.7/lib/python3.7/site-packages/xgboost/sklearn.py:888: UserWarning: The use of label encoder in XGBClassifier is deprecated and will be removed in a future release. To remove this warning, do the following: 1) Pass option use_label_encoder=False when constructing XGBClassifier object; and 2) Encode your labels (y) as integers starting with 0, i.e. 0, 1, 2, ..., [num_class - 1].\n",
      "  warnings.warn(label_encoder_deprecation_msg, UserWarning)\n"
     ]
    },
    {
     "name": "stdout",
     "output_type": "stream",
     "text": [
      "[11:26:50] WARNING: /opt/concourse/worker/volumes/live/7a2b9f41-3287-451b-6691-43e9a6c0910f/volume/xgboost-split_1619728204606/work/src/learner.cc:1061: Starting in XGBoost 1.3.0, the default evaluation metric used with the objective 'binary:logistic' was changed from 'error' to 'logloss'. Explicitly set eval_metric if you'd like to restore the old behavior.\n"
     ]
    },
    {
     "data": {
      "text/plain": "XGBClassifier(base_score=0.5, booster='gbtree', colsample_bylevel=1,\n              colsample_bynode=1, colsample_bytree=1, gamma=0, gpu_id=-1,\n              importance_type='gain', interaction_constraints='',\n              learning_rate=0.05, max_delta_step=0, max_depth=6,\n              min_child_weight=1, missing=nan, monotone_constraints='()',\n              n_estimators=1000, n_jobs=6, num_parallel_tree=1, random_state=0,\n              reg_alpha=0, reg_lambda=1, scale_pos_weight=1, subsample=1,\n              tree_method='exact', validate_parameters=1, verbosity=None)"
     },
     "execution_count": 6,
     "metadata": {},
     "output_type": "execute_result"
    }
   ],
   "source": [
    "from xgboost import XGBClassifier\n",
    "\n",
    "clf = XGBClassifier(n_estimators=1000, learning_rate=0.05,n_jobs=6)\n",
    "# Add silent=True to avoid printing out updates with each cycle\n",
    "clf.fit(X_train, y_train, verbose=True)"
   ],
   "metadata": {
    "collapsed": false,
    "pycharm": {
     "name": "#%%\n"
    }
   }
  },
  {
   "cell_type": "code",
   "execution_count": 7,
   "outputs": [
    {
     "name": "stdout",
     "output_type": "stream",
     "text": [
      "[[3 0]\n",
      " [1 6]]\n",
      "0.9\n"
     ]
    }
   ],
   "source": [
    "from sklearn.metrics import confusion_matrix, accuracy_score\n",
    "y_pred = clf.predict(X_test)\n",
    "# Making Confusion Matrix and calculating accuracy score\n",
    "\n",
    "mylist = []\n",
    "cm = confusion_matrix(y_test, y_pred)\n",
    "ac = accuracy_score(y_test, y_pred)\n",
    "mylist.append(ac)\n",
    "print(cm)\n",
    "print(ac)"
   ],
   "metadata": {
    "collapsed": false,
    "pycharm": {
     "name": "#%%\n"
    }
   }
  },
  {
   "cell_type": "code",
   "execution_count": null,
   "outputs": [],
   "source": [],
   "metadata": {
    "collapsed": false,
    "pycharm": {
     "name": "#%%\n"
    }
   }
  }
 ],
 "metadata": {
  "kernelspec": {
   "display_name": "PyCharm (proj4CM)",
   "language": "python",
   "name": "pycharm-f3dbbc4a"
  },
  "language_info": {
   "codemirror_mode": {
    "name": "ipython",
    "version": 3
   },
   "file_extension": ".py",
   "mimetype": "text/x-python",
   "name": "python",
   "nbconvert_exporter": "python",
   "pygments_lexer": "ipython3",
   "version": "3.7.0"
  }
 },
 "nbformat": 4,
 "nbformat_minor": 1
}