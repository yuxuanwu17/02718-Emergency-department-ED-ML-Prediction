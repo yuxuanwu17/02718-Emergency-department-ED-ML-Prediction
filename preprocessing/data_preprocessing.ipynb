{
 "cells": [
  {
   "cell_type": "code",
   "execution_count": 1,
   "metadata": {},
   "outputs": [
    {
     "data": {
      "text/plain": "   dep_name.C  dep_name.B  dep_name.A  esi.1  esi.2  esi.3  esi.4  esi.5  \\\n0           0           1           0    0.0    0.0    0.0    1.0    0.0   \n1           0           1           0    0.0    0.0    0.0    1.0    0.0   \n2           0           1           0    0.0    1.0    0.0    0.0    0.0   \n3           0           0           1    0.0    1.0    0.0    0.0    0.0   \n4           0           0           1    0.0    0.0    1.0    0.0    0.0   \n\n    age  gender.Female  ...  cc_vaginalpain  cc_weakness  cc_wheezing  \\\n0  40.0              0  ...             0.0          0.0          0.0   \n1  66.0              0  ...             0.0          0.0          0.0   \n2  66.0              0  ...             0.0          0.0          0.0   \n3  66.0              0  ...             0.0          0.0          0.0   \n4  84.0              1  ...             0.0          0.0          0.0   \n\n   X.cc_withdrawal.alcohol.  cc_woundcheck  cc_woundinfection  \\\n0                       0.0            0.0                0.0   \n1                       0.0            0.0                0.0   \n2                       0.0            0.0                0.0   \n3                       0.0            0.0                0.0   \n4                       0.0            0.0                0.0   \n\n   X.cc_woundre.evaluation.  cc_wristinjury  cc_wristpain  Y  \n0                       0.0             0.0           0.0  0  \n1                       0.0             0.0           0.0  0  \n2                       0.0             0.0           0.0  0  \n3                       0.0             0.0           0.0  0  \n4                       0.0             0.0           0.0  1  \n\n[5 rows x 303 columns]",
      "text/html": "<div>\n<style scoped>\n    .dataframe tbody tr th:only-of-type {\n        vertical-align: middle;\n    }\n\n    .dataframe tbody tr th {\n        vertical-align: top;\n    }\n\n    .dataframe thead th {\n        text-align: right;\n    }\n</style>\n<table border=\"1\" class=\"dataframe\">\n  <thead>\n    <tr style=\"text-align: right;\">\n      <th></th>\n      <th>dep_name.C</th>\n      <th>dep_name.B</th>\n      <th>dep_name.A</th>\n      <th>esi.1</th>\n      <th>esi.2</th>\n      <th>esi.3</th>\n      <th>esi.4</th>\n      <th>esi.5</th>\n      <th>age</th>\n      <th>gender.Female</th>\n      <th>...</th>\n      <th>cc_vaginalpain</th>\n      <th>cc_weakness</th>\n      <th>cc_wheezing</th>\n      <th>X.cc_withdrawal.alcohol.</th>\n      <th>cc_woundcheck</th>\n      <th>cc_woundinfection</th>\n      <th>X.cc_woundre.evaluation.</th>\n      <th>cc_wristinjury</th>\n      <th>cc_wristpain</th>\n      <th>Y</th>\n    </tr>\n  </thead>\n  <tbody>\n    <tr>\n      <th>0</th>\n      <td>0</td>\n      <td>1</td>\n      <td>0</td>\n      <td>0.0</td>\n      <td>0.0</td>\n      <td>0.0</td>\n      <td>1.0</td>\n      <td>0.0</td>\n      <td>40.0</td>\n      <td>0</td>\n      <td>...</td>\n      <td>0.0</td>\n      <td>0.0</td>\n      <td>0.0</td>\n      <td>0.0</td>\n      <td>0.0</td>\n      <td>0.0</td>\n      <td>0.0</td>\n      <td>0.0</td>\n      <td>0.0</td>\n      <td>0</td>\n    </tr>\n    <tr>\n      <th>1</th>\n      <td>0</td>\n      <td>1</td>\n      <td>0</td>\n      <td>0.0</td>\n      <td>0.0</td>\n      <td>0.0</td>\n      <td>1.0</td>\n      <td>0.0</td>\n      <td>66.0</td>\n      <td>0</td>\n      <td>...</td>\n      <td>0.0</td>\n      <td>0.0</td>\n      <td>0.0</td>\n      <td>0.0</td>\n      <td>0.0</td>\n      <td>0.0</td>\n      <td>0.0</td>\n      <td>0.0</td>\n      <td>0.0</td>\n      <td>0</td>\n    </tr>\n    <tr>\n      <th>2</th>\n      <td>0</td>\n      <td>1</td>\n      <td>0</td>\n      <td>0.0</td>\n      <td>1.0</td>\n      <td>0.0</td>\n      <td>0.0</td>\n      <td>0.0</td>\n      <td>66.0</td>\n      <td>0</td>\n      <td>...</td>\n      <td>0.0</td>\n      <td>0.0</td>\n      <td>0.0</td>\n      <td>0.0</td>\n      <td>0.0</td>\n      <td>0.0</td>\n      <td>0.0</td>\n      <td>0.0</td>\n      <td>0.0</td>\n      <td>0</td>\n    </tr>\n    <tr>\n      <th>3</th>\n      <td>0</td>\n      <td>0</td>\n      <td>1</td>\n      <td>0.0</td>\n      <td>1.0</td>\n      <td>0.0</td>\n      <td>0.0</td>\n      <td>0.0</td>\n      <td>66.0</td>\n      <td>0</td>\n      <td>...</td>\n      <td>0.0</td>\n      <td>0.0</td>\n      <td>0.0</td>\n      <td>0.0</td>\n      <td>0.0</td>\n      <td>0.0</td>\n      <td>0.0</td>\n      <td>0.0</td>\n      <td>0.0</td>\n      <td>0</td>\n    </tr>\n    <tr>\n      <th>4</th>\n      <td>0</td>\n      <td>0</td>\n      <td>1</td>\n      <td>0.0</td>\n      <td>0.0</td>\n      <td>1.0</td>\n      <td>0.0</td>\n      <td>0.0</td>\n      <td>84.0</td>\n      <td>1</td>\n      <td>...</td>\n      <td>0.0</td>\n      <td>0.0</td>\n      <td>0.0</td>\n      <td>0.0</td>\n      <td>0.0</td>\n      <td>0.0</td>\n      <td>0.0</td>\n      <td>0.0</td>\n      <td>0.0</td>\n      <td>1</td>\n    </tr>\n  </tbody>\n</table>\n<p>5 rows × 303 columns</p>\n</div>"
     },
     "execution_count": 1,
     "metadata": {},
     "output_type": "execute_result"
    }
   ],
   "source": [
    "import pandas as pd\n",
    "import numpy as np\n",
    "import time\n",
    "\n",
    "np.random.seed(33)\n",
    "\n",
    "df = pd.read_csv(\"../data/allOnlyTriage.csv\")\n",
    "df = df.drop(\"Unnamed: 0\", axis=1)\n",
    "\n",
    "df.head()"
   ]
  },
  {
   "cell_type": "code",
   "execution_count": 2,
   "metadata": {},
   "outputs": [
    {
     "name": "stdout",
     "output_type": "stream",
     "text": [
      "dep_name.C 0.0%\n",
      "dep_name.B 0.0%\n",
      "dep_name.A 0.0%\n",
      "esi.1 0.44%\n",
      "esi.2 0.44%\n",
      "esi.3 0.44%\n",
      "esi.4 0.44%\n",
      "esi.5 0.44%\n",
      "age 0.0%\n",
      "gender.Female 0.0%\n",
      "gender.Male 0.0%\n",
      "ethnicity.Hispanic.or.Latino 0.0%\n",
      "ethnicity.Non.Hispanic 0.0%\n",
      "ethnicity.Patient.Refused 0.0%\n",
      "ethnicity.Unknown 0.0%\n",
      "race.American.Indian.or.Alaska.Native 0.0%\n",
      "race.Asian 0.0%\n",
      "race.Black.or.African.American 0.0%\n",
      "race.Native.Hawaiian.or.Other.Pacific.Islander 0.0%\n",
      "race.Other 0.0%\n",
      "race.Patient.Refused 0.0%\n",
      "race.Unknown 0.0%\n",
      "race.White.or.Caucasian 0.0%\n",
      "lang.English 0.0%\n",
      "lang.Other 0.0%\n",
      "religion.Baptist 0.0%\n",
      "religion.Catholic 0.0%\n",
      "religion.Christian 0.0%\n",
      "religion.Episcopal 0.0%\n",
      "religion.Jehovah.s.Witness 0.0%\n",
      "religion.Jewish 0.0%\n",
      "religion.Methodist 0.0%\n",
      "religion.Muslim 0.0%\n",
      "religion.None 0.0%\n",
      "religion.Other 0.0%\n",
      "religion.Pentecostal 0.0%\n",
      "religion.Protestant 0.0%\n",
      "religion.Unknown 0.0%\n",
      "maritalstatus.Civil.Union 0.0%\n",
      "maritalstatus.Divorced 0.0%\n",
      "maritalstatus.Legally.Separated 0.0%\n",
      "maritalstatus.Life.Partner 0.0%\n",
      "maritalstatus.Married 0.0%\n",
      "maritalstatus.Other 0.0%\n",
      "maritalstatus.Significant.Other 0.0%\n",
      "maritalstatus.Single 0.0%\n",
      "maritalstatus.Unknown 0.0%\n",
      "maritalstatus.Widowed 0.0%\n",
      "employstatus.Disabled 0.0%\n",
      "employstatus.Full.Time 0.0%\n",
      "employstatus.Not.Employed 0.0%\n",
      "employstatus.On.Active.Military.Duty 0.0%\n",
      "employstatus.Part.Time 0.0%\n",
      "employstatus.Retired 0.0%\n",
      "employstatus.Self.Employed 0.0%\n",
      "employstatus.Student...Full.Time 0.0%\n",
      "employstatus.Student...Part.Time 0.0%\n",
      "employstatus.Unknown 0.0%\n",
      "insurance_status.Commercial 0.0%\n",
      "insurance_status.Medicaid 0.0%\n",
      "insurance_status.Medicare 0.0%\n",
      "insurance_status.Other 0.0%\n",
      "insurance_status.Self.pay 0.0%\n",
      "arrivalmode.ambulance 3.9%\n",
      "arrivalmode.Car 3.9%\n",
      "arrivalmode.Other 3.9%\n",
      "arrivalmode.Police 3.9%\n",
      "arrivalmode.Public.Transportation 3.9%\n",
      "arrivalmode.Walk.in 3.9%\n",
      "arrivalmode.Wheelchair 3.9%\n",
      "arrivalmonth.April 0.0%\n",
      "arrivalmonth.August 0.0%\n",
      "arrivalmonth.December 0.0%\n",
      "arrivalmonth.February 0.0%\n",
      "arrivalmonth.January 0.0%\n",
      "arrivalmonth.July 0.0%\n",
      "arrivalmonth.June 0.0%\n",
      "arrivalmonth.March 0.0%\n",
      "arrivalmonth.May 0.0%\n",
      "arrivalmonth.November 0.0%\n",
      "arrivalmonth.October 0.0%\n",
      "arrivalmonth.September 0.0%\n",
      "arrivalday.Friday 0.0%\n",
      "arrivalday.Monday 0.0%\n",
      "arrivalday.Saturday 0.0%\n",
      "arrivalday.Sunday 0.0%\n",
      "arrivalday.Thursday 0.0%\n",
      "arrivalday.Tuesday 0.0%\n",
      "arrivalday.Wednesday 0.0%\n",
      "arrivalhour_bin.23.02 0.0%\n",
      "arrivalhour_bin.03.06 0.0%\n",
      "arrivalhour_bin.07.10 0.0%\n",
      "arrivalhour_bin.11.14 0.0%\n",
      "arrivalhour_bin.15.18 0.0%\n",
      "arrivalhour_bin.19.22 0.0%\n",
      "triage_vital_hr 29.63%\n",
      "triage_vital_sbp 29.96%\n",
      "triage_vital_dbp 29.99%\n",
      "triage_vital_rr 30.42%\n",
      "triage_vital_o2 48.41%\n",
      "triage_vital_o2_device 40.47%\n",
      "triage_vital_temp 32.65%\n",
      "cc_abdominalcramping 0.46%\n",
      "cc_abdominaldistention 0.46%\n",
      "cc_abdominalpain 0.46%\n",
      "cc_abdominalpainpregnant 0.46%\n",
      "cc_abnormallab 0.46%\n",
      "cc_abscess 0.46%\n",
      "cc_addictionproblem 0.46%\n",
      "cc_agitation 0.46%\n",
      "cc_alcoholintoxication 0.46%\n",
      "cc_alcoholproblem 0.46%\n",
      "cc_allergicreaction 0.46%\n",
      "cc_alteredmentalstatus 0.46%\n",
      "cc_animalbite 0.46%\n",
      "cc_ankleinjury 0.46%\n",
      "cc_anklepain 0.46%\n",
      "cc_anxiety 0.46%\n",
      "cc_arminjury 0.46%\n",
      "cc_armpain 0.46%\n",
      "cc_armswelling 0.46%\n",
      "cc_assaultvictim 0.46%\n",
      "cc_asthma 0.46%\n",
      "cc_backpain 0.46%\n",
      "X.cc_bleeding.bruising. 0.46%\n",
      "cc_blurredvision 0.46%\n",
      "cc_bodyfluidexposure 0.46%\n",
      "cc_breastpain 0.46%\n",
      "cc_breathingdifficulty 0.46%\n",
      "cc_breathingproblem 0.46%\n",
      "cc_burn 0.46%\n",
      "cc_cardiacarrest 0.46%\n",
      "cc_cellulitis 0.46%\n",
      "cc_chestpain 0.46%\n",
      "cc_chesttightness 0.46%\n",
      "cc_chills 0.46%\n",
      "cc_coldlikesymptoms 0.46%\n",
      "cc_confusion 0.46%\n",
      "cc_conjunctivitis 0.46%\n",
      "cc_constipation 0.46%\n",
      "cc_cough 0.46%\n",
      "cc_cyst 0.46%\n",
      "X.cc_decreasedbloodsugar.symptomatic. 0.46%\n",
      "cc_dehydration 0.46%\n",
      "cc_dentalpain 0.46%\n",
      "cc_depression 0.46%\n",
      "cc_detoxevaluation 0.46%\n",
      "cc_diarrhea 0.46%\n",
      "cc_dizziness 0.46%\n",
      "X.cc_drug.alcoholassessment. 0.46%\n",
      "cc_drugproblem 0.46%\n",
      "cc_dyspnea 0.46%\n",
      "cc_dysuria 0.46%\n",
      "cc_earpain 0.46%\n",
      "cc_earproblem 0.46%\n",
      "cc_edema 0.46%\n",
      "cc_elbowpain 0.46%\n",
      "X.cc_elevatedbloodsugar.nosymptoms. 0.46%\n",
      "X.cc_elevatedbloodsugar.symptomatic. 0.46%\n",
      "cc_emesis 0.46%\n",
      "cc_epigastricpain 0.46%\n",
      "cc_epistaxis 0.46%\n",
      "cc_exposuretostd 0.46%\n",
      "cc_extremitylaceration 0.46%\n",
      "cc_extremityweakness 0.46%\n",
      "cc_eyeinjury 0.46%\n",
      "cc_eyepain 0.46%\n",
      "cc_eyeproblem 0.46%\n",
      "cc_eyeredness 0.46%\n",
      "cc_facialinjury 0.46%\n",
      "cc_faciallaceration 0.46%\n",
      "cc_facialpain 0.46%\n",
      "cc_facialswelling 0.46%\n",
      "cc_fall 0.46%\n",
      "X.cc_fall.65. 0.46%\n",
      "cc_fatigue 0.46%\n",
      "cc_femaleguproblem 0.46%\n",
      "cc_fever 0.46%\n",
      "X.cc_fever.75yearsorolder. 0.46%\n",
      "X.cc_fever.9weeksto74years. 0.46%\n",
      "cc_feverimmunocompromised 0.46%\n",
      "cc_fingerinjury 0.46%\n",
      "cc_fingerpain 0.46%\n",
      "cc_fingerswelling 0.46%\n",
      "cc_flankpain 0.46%\n",
      "X.cc_follow.upcellulitis. 0.46%\n",
      "cc_footinjury 0.46%\n",
      "cc_footpain 0.46%\n",
      "cc_footswelling 0.46%\n",
      "cc_foreignbodyineye 0.46%\n",
      "cc_fulltrauma 0.46%\n",
      "cc_generalizedbodyaches 0.46%\n",
      "cc_gibleeding 0.46%\n",
      "cc_giproblem 0.46%\n",
      "cc_groinpain 0.46%\n",
      "cc_hallucinations 0.46%\n",
      "cc_handinjury 0.46%\n",
      "cc_handpain 0.46%\n",
      "cc_headache 0.46%\n",
      "X.cc_headache.newonsetornewsymptoms. 0.46%\n",
      "X.cc_headache.recurrentorknowndxmigraines. 0.46%\n",
      "X.cc_headachere.evaluation. 0.46%\n",
      "cc_headinjury 0.46%\n",
      "cc_headlaceration 0.46%\n",
      "cc_hematuria 0.46%\n",
      "cc_hemoptysis 0.46%\n",
      "cc_hippain 0.46%\n",
      "cc_homicidal 0.46%\n",
      "cc_hyperglycemia 0.46%\n",
      "cc_hypertension 0.46%\n",
      "cc_hypotension 0.46%\n",
      "cc_influenza 0.46%\n",
      "cc_ingestion 0.46%\n",
      "cc_insectbite 0.46%\n",
      "cc_irregularheartbeat 0.46%\n",
      "cc_jawpain 0.46%\n",
      "cc_jointswelling 0.46%\n",
      "cc_kneeinjury 0.46%\n",
      "cc_kneepain 0.46%\n",
      "cc_laceration 0.46%\n",
      "cc_leginjury 0.46%\n",
      "cc_legpain 0.46%\n",
      "cc_legswelling 0.46%\n",
      "cc_lethargy 0.46%\n",
      "cc_lossofconsciousness 0.46%\n",
      "cc_maleguproblem 0.46%\n",
      "cc_mass 0.46%\n",
      "cc_medicalproblem 0.46%\n",
      "cc_medicalscreening 0.46%\n",
      "cc_medicationproblem 0.46%\n",
      "cc_medicationrefill 0.46%\n",
      "cc_migraine 0.46%\n",
      "cc_modifiedtrauma 0.46%\n",
      "cc_motorcyclecrash 0.46%\n",
      "cc_motorvehiclecrash 0.46%\n",
      "cc_multiplefalls 0.46%\n",
      "cc_nasalcongestion 0.46%\n",
      "cc_nausea 0.46%\n",
      "cc_nearsyncope 0.46%\n",
      "cc_neckpain 0.46%\n",
      "cc_neurologicproblem 0.46%\n",
      "cc_numbness 0.46%\n",
      "cc_oralswelling 0.46%\n",
      "cc_otalgia 0.46%\n",
      "cc_other 0.46%\n",
      "X.cc_overdose.accidental. 0.46%\n",
      "X.cc_overdose.intentional. 0.46%\n",
      "cc_pain 0.46%\n",
      "cc_palpitations 0.46%\n",
      "cc_panicattack 0.46%\n",
      "cc_pelvicpain 0.46%\n",
      "cc_poisoning 0.46%\n",
      "X.cc_post.opproblem. 0.46%\n",
      "cc_psychiatricevaluation 0.46%\n",
      "cc_psychoticsymptoms 0.46%\n",
      "cc_rapidheartrate 0.46%\n",
      "cc_rash 0.46%\n",
      "cc_rectalbleeding 0.46%\n",
      "cc_rectalpain 0.46%\n",
      "cc_respiratorydistress 0.46%\n",
      "cc_ribinjury 0.46%\n",
      "cc_ribpain 0.46%\n",
      "X.cc_seizure.newonset. 0.46%\n",
      "X.cc_seizure.priorhxof. 0.46%\n",
      "cc_seizures 0.46%\n",
      "cc_shortnessofbreath 0.46%\n",
      "cc_shoulderinjury 0.46%\n",
      "cc_shoulderpain 0.46%\n",
      "cc_sicklecellpain 0.46%\n",
      "cc_sinusproblem 0.46%\n",
      "cc_skinirritation 0.46%\n",
      "cc_skinproblem 0.46%\n",
      "cc_sorethroat 0.46%\n",
      "cc_stdcheck 0.46%\n",
      "cc_strokealert 0.46%\n",
      "cc_suicidal 0.46%\n",
      "X.cc_suture.stapleremoval. 0.46%\n",
      "cc_swallowedforeignbody 0.46%\n",
      "cc_syncope 0.46%\n",
      "cc_tachycardia 0.46%\n",
      "cc_testiclepain 0.46%\n",
      "cc_thumbinjury 0.46%\n",
      "cc_tickremoval 0.46%\n",
      "cc_toeinjury 0.46%\n",
      "cc_toepain 0.46%\n",
      "cc_trauma 0.46%\n",
      "cc_unresponsive 0.46%\n",
      "cc_uri 0.46%\n",
      "cc_urinaryfrequency 0.46%\n",
      "cc_urinaryretention 0.46%\n",
      "cc_urinarytractinfection 0.46%\n",
      "cc_vaginalbleeding 0.46%\n",
      "cc_vaginaldischarge 0.46%\n",
      "cc_vaginalpain 0.46%\n",
      "cc_weakness 0.46%\n",
      "cc_wheezing 0.46%\n",
      "X.cc_withdrawal.alcohol. 0.46%\n",
      "cc_woundcheck 0.46%\n",
      "cc_woundinfection 0.46%\n",
      "X.cc_woundre.evaluation. 0.46%\n",
      "cc_wristinjury 0.46%\n",
      "cc_wristpain 0.46%\n",
      "Y 0.0%\n"
     ]
    }
   ],
   "source": [
    "for col in df.columns:\n",
    "    ratio = round(100* df[col].isnull().sum() / len(df), 2)\n",
    "    print(col, str(ratio) + '%')"
   ]
  },
  {
   "cell_type": "markdown",
   "metadata": {},
   "source": [
    "## Find the NA ratio higher than 5%"
   ]
  },
  {
   "cell_type": "code",
   "execution_count": 3,
   "metadata": {},
   "outputs": [
    {
     "name": "stdout",
     "output_type": "stream",
     "text": [
      "original number of columns 303\n",
      "triage_vital_hr\n",
      "triage_vital_sbp\n",
      "triage_vital_dbp\n",
      "triage_vital_rr\n",
      "triage_vital_o2\n",
      "triage_vital_o2_device\n",
      "triage_vital_temp\n",
      "7\n",
      "after processing: 296\n"
     ]
    }
   ],
   "source": [
    "count = 0\n",
    "print(\"original number of columns\",len(df.columns))\n",
    "for col in df.columns:\n",
    "    ratio = round(100* df[col].isnull().sum() / len(df), 2)\n",
    "    if ratio>=5:\n",
    "        count = count+1\n",
    "        print(col)\n",
    "        df = df.drop(col,axis=1)\n",
    "#     print(col, str(round(100* df[col].isnull().sum() / len(df), 2)) + '%')\n",
    "\n",
    "print(count)\n",
    "print(\"after processing:\", len(df.columns))"
   ]
  },
  {
   "cell_type": "markdown",
   "metadata": {},
   "source": [
    "## Delete the row with NA"
   ]
  },
  {
   "cell_type": "code",
   "execution_count": 4,
   "metadata": {},
   "outputs": [
    {
     "name": "stdout",
     "output_type": "stream",
     "text": [
      "(534730, 296)\n",
      "(560486, 296)\n"
     ]
    }
   ],
   "source": [
    "cleaned_df = df.dropna()\n",
    "print(cleaned_df.shape)\n",
    "print(df.shape)\n",
    "df = df.dropna()"
   ]
  },
  {
   "cell_type": "markdown",
   "metadata": {},
   "source": [
    "## Save or Read the cleaned dataframe to csv"
   ]
  },
  {
   "cell_type": "code",
   "execution_count": 2,
   "metadata": {},
   "outputs": [],
   "source": [
    "import pandas as pd\n",
    "import numpy as np\n",
    "import time\n",
    "\n",
    "np.random.seed(33)\n",
    "# df.to_csv(\"../data/cleanedOnlyTriage.csv\")\n",
    "df = pd.read_csv(\"../data/cleanedOnlyTriage.csv\")\n"
   ]
  },
  {
   "cell_type": "markdown",
   "source": [
    "## Feature selection via mutual information\n",
    "\n",
    "\n"
   ],
   "metadata": {
    "collapsed": false
   }
  },
  {
   "cell_type": "code",
   "execution_count": 5,
   "metadata": {
    "pycharm": {
     "name": "#%%\n"
    }
   },
   "outputs": [
    {
     "name": "stdout",
     "output_type": "stream",
     "text": [
      "No. of training examples: 427784\n",
      "No. of testing examples: 106946\n"
     ]
    }
   ],
   "source": [
    "## Split the data into training and testing data\n",
    "from sklearn.model_selection import train_test_split\n",
    "\n",
    "training_data, testing_data = train_test_split(df, test_size=0.2, random_state=25)\n",
    "\n",
    "print(f\"No. of training examples: {training_data.shape[0]}\")\n",
    "print(f\"No. of testing examples: {testing_data.shape[0]}\")"
   ]
  },
  {
   "cell_type": "code",
   "execution_count": 13,
   "outputs": [
    {
     "name": "stdout",
     "output_type": "stream",
     "text": [
      "[ 0  3  5  7  9 10 13 23 24 27 46 48 50 54 60 61 62 64 65 69]\n",
      "1330.7448439598083\n"
     ]
    }
   ],
   "source": [
    "from sklearn.feature_selection import SelectKBest\n",
    "from sklearn.feature_selection import mutual_info_classif, f_classif\n",
    "\n",
    "y_train = training_data.iloc[:,-1]\n",
    "y_test = testing_data.iloc[:,-1]\n",
    "X_train = training_data.iloc[:,:-1]\n",
    "X_test = testing_data.iloc[:,:-1]\n",
    "\n",
    "y_train = np.array(y_train)\n",
    "y_test = np.array(y_test)\n",
    "X_train = np.array(X_train)\n",
    "X_test = np.array(X_test)\n",
    "\n",
    "start = time.time()\n",
    "selector = SelectKBest(mutual_info_classif, k=20).fit(X_train, y_train)\n",
    "cols = selector.get_support(indices=True)\n",
    "end = time.time()\n",
    "print(cols) #[ 0  3  5  7  9 10 13 23 24 27 46 48 50 54 60 61 62 64 65 69]\n",
    "print(end-start)"
   ],
   "metadata": {
    "collapsed": false,
    "pycharm": {
     "name": "#%%\n"
    }
   }
  },
  {
   "cell_type": "code",
   "execution_count": 16,
   "outputs": [
    {
     "name": "stdout",
     "output_type": "stream",
     "text": [
      "(427784, 20)\n",
      "(106946, 20)\n"
     ]
    }
   ],
   "source": [
    "X_train_df = pd.DataFrame(X_train)\n",
    "X_train_smi = X_train_df.iloc[:,cols]\n",
    "X_test_df = pd.DataFrame(X_test)\n",
    "X_test_smi = X_test_df.iloc[:,cols]\n",
    "print(X_train_smi.shape)\n",
    "print(X_test_smi.shape)"
   ],
   "metadata": {
    "collapsed": false,
    "pycharm": {
     "name": "#%%\n"
    }
   }
  },
  {
   "cell_type": "code",
   "execution_count": null,
   "outputs": [],
   "source": [
    "# print(X_train.shape)\n",
    "# print(X_test.shape)\n",
    "# X_test = X_test[:10,]\n",
    "# y_test = y_test[:10,]\n",
    "\n",
    "X_train = np.array(X_train)\n",
    "X_test = np.array(X_test)\n",
    "\n",
    "# LogisticRegression(random_state=0).fit(X, y)"
   ],
   "metadata": {
    "collapsed": false,
    "pycharm": {
     "name": "#%%\n",
     "is_executing": true
    }
   }
  },
  {
   "cell_type": "code",
   "execution_count": null,
   "outputs": [],
   "source": [
    "from sklearn.svm import SVC\n",
    "from sklearn.pipeline import make_pipeline\n",
    "from sklearn.preprocessing import StandardScaler\n",
    "sv_clf = SVC(kernel=\"linear\",random_state=1)\n",
    "sv_clf.fit(X_train, y_train)"
   ],
   "metadata": {
    "collapsed": false,
    "pycharm": {
     "name": "#%%\n"
    }
   }
  },
  {
   "cell_type": "code",
   "execution_count": 23,
   "metadata": {
    "pycharm": {
     "name": "#%%\n"
    }
   },
   "outputs": [
    {
     "name": "stdout",
     "output_type": "stream",
     "text": [
      "Accuracy of linear SVM model 80.0\n"
     ]
    }
   ],
   "source": [
    "from sklearn.metrics import accuracy_score\n",
    "sv_clf_pred = sv_clf.predict(X_test)\n",
    "sv_clf_acc = accuracy_score(y_test,sv_clf_pred)\n",
    "\n",
    "sc_clf_acc_format = round(sv_clf_acc*100,2)\n",
    "print(\"Accuracy of linear SVM model\", sc_clf_acc_format)"
   ]
  },
  {
   "cell_type": "code",
   "execution_count": null,
   "metadata": {
    "pycharm": {
     "name": "#%%\n"
    }
   },
   "outputs": [],
   "source": [
    "# time.now()\n",
    "# time.substract\n",
    "\n"
   ]
  }
 ],
 "metadata": {
  "kernelspec": {
   "display_name": "Python 3",
   "language": "python",
   "name": "python3"
  },
  "language_info": {
   "codemirror_mode": {
    "name": "ipython",
    "version": 3
   },
   "file_extension": ".py",
   "mimetype": "text/x-python",
   "name": "python",
   "nbconvert_exporter": "python",
   "pygments_lexer": "ipython3",
   "version": "3.8.3"
  }
 },
 "nbformat": 4,
 "nbformat_minor": 1
}