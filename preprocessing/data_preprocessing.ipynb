{
 "cells": [
  {
   "cell_type": "code",
   "execution_count": 18,
   "metadata": {},
   "outputs": [
    {
     "name": "stdout",
     "output_type": "stream",
     "text": [
      "(534730, 584)\n"
     ]
    },
    {
     "data": {
      "text/plain": "  dep_name  esi  age  gender           ethnicity  \\\n0        B    4   40    Male  Hispanic or Latino   \n1        B    4   66    Male  Hispanic or Latino   \n2        B    2   66    Male  Hispanic or Latino   \n3        A    2   66    Male  Hispanic or Latino   \n4        A    3   84  Female  Hispanic or Latino   \n\n                                        race     lang     religion  \\\n0                         White or Caucasian  English         None   \n1  Native Hawaiian or Other Pacific Islander  English  Pentecostal   \n2  Native Hawaiian or Other Pacific Islander  English  Pentecostal   \n3  Native Hawaiian or Other Pacific Islander  English  Pentecostal   \n4                                      Other    Other  Pentecostal   \n\n  maritalstatus  employstatus  ... cc_vaginaldischarge cc_vaginalpain  \\\n0        Single     Full Time  ...                   0              0   \n1       Married  Not Employed  ...                   0              0   \n2       Married  Not Employed  ...                   0              0   \n3       Married  Not Employed  ...                   0              0   \n4       Widowed       Retired  ...                   0              0   \n\n  cc_weakness cc_wheezing cc_withdrawal-alcohol cc_woundcheck  \\\n0           0           0                     0             0   \n1           0           0                     0             0   \n2           0           0                     0             0   \n3           0           0                     0             0   \n4           0           0                     0             0   \n\n  cc_woundinfection  cc_woundre-evaluation  cc_wristinjury  cc_wristpain  \n0                 0                      0               0             0  \n1                 0                      0               0             0  \n2                 0                      0               0             0  \n3                 0                      0               0             0  \n4                 0                      0               0             0  \n\n[5 rows x 584 columns]",
      "text/html": "<div>\n<style scoped>\n    .dataframe tbody tr th:only-of-type {\n        vertical-align: middle;\n    }\n\n    .dataframe tbody tr th {\n        vertical-align: top;\n    }\n\n    .dataframe thead th {\n        text-align: right;\n    }\n</style>\n<table border=\"1\" class=\"dataframe\">\n  <thead>\n    <tr style=\"text-align: right;\">\n      <th></th>\n      <th>dep_name</th>\n      <th>esi</th>\n      <th>age</th>\n      <th>gender</th>\n      <th>ethnicity</th>\n      <th>race</th>\n      <th>lang</th>\n      <th>religion</th>\n      <th>maritalstatus</th>\n      <th>employstatus</th>\n      <th>...</th>\n      <th>cc_vaginaldischarge</th>\n      <th>cc_vaginalpain</th>\n      <th>cc_weakness</th>\n      <th>cc_wheezing</th>\n      <th>cc_withdrawal-alcohol</th>\n      <th>cc_woundcheck</th>\n      <th>cc_woundinfection</th>\n      <th>cc_woundre-evaluation</th>\n      <th>cc_wristinjury</th>\n      <th>cc_wristpain</th>\n    </tr>\n  </thead>\n  <tbody>\n    <tr>\n      <th>0</th>\n      <td>B</td>\n      <td>4</td>\n      <td>40</td>\n      <td>Male</td>\n      <td>Hispanic or Latino</td>\n      <td>White or Caucasian</td>\n      <td>English</td>\n      <td>None</td>\n      <td>Single</td>\n      <td>Full Time</td>\n      <td>...</td>\n      <td>0</td>\n      <td>0</td>\n      <td>0</td>\n      <td>0</td>\n      <td>0</td>\n      <td>0</td>\n      <td>0</td>\n      <td>0</td>\n      <td>0</td>\n      <td>0</td>\n    </tr>\n    <tr>\n      <th>1</th>\n      <td>B</td>\n      <td>4</td>\n      <td>66</td>\n      <td>Male</td>\n      <td>Hispanic or Latino</td>\n      <td>Native Hawaiian or Other Pacific Islander</td>\n      <td>English</td>\n      <td>Pentecostal</td>\n      <td>Married</td>\n      <td>Not Employed</td>\n      <td>...</td>\n      <td>0</td>\n      <td>0</td>\n      <td>0</td>\n      <td>0</td>\n      <td>0</td>\n      <td>0</td>\n      <td>0</td>\n      <td>0</td>\n      <td>0</td>\n      <td>0</td>\n    </tr>\n    <tr>\n      <th>2</th>\n      <td>B</td>\n      <td>2</td>\n      <td>66</td>\n      <td>Male</td>\n      <td>Hispanic or Latino</td>\n      <td>Native Hawaiian or Other Pacific Islander</td>\n      <td>English</td>\n      <td>Pentecostal</td>\n      <td>Married</td>\n      <td>Not Employed</td>\n      <td>...</td>\n      <td>0</td>\n      <td>0</td>\n      <td>0</td>\n      <td>0</td>\n      <td>0</td>\n      <td>0</td>\n      <td>0</td>\n      <td>0</td>\n      <td>0</td>\n      <td>0</td>\n    </tr>\n    <tr>\n      <th>3</th>\n      <td>A</td>\n      <td>2</td>\n      <td>66</td>\n      <td>Male</td>\n      <td>Hispanic or Latino</td>\n      <td>Native Hawaiian or Other Pacific Islander</td>\n      <td>English</td>\n      <td>Pentecostal</td>\n      <td>Married</td>\n      <td>Not Employed</td>\n      <td>...</td>\n      <td>0</td>\n      <td>0</td>\n      <td>0</td>\n      <td>0</td>\n      <td>0</td>\n      <td>0</td>\n      <td>0</td>\n      <td>0</td>\n      <td>0</td>\n      <td>0</td>\n    </tr>\n    <tr>\n      <th>4</th>\n      <td>A</td>\n      <td>3</td>\n      <td>84</td>\n      <td>Female</td>\n      <td>Hispanic or Latino</td>\n      <td>Other</td>\n      <td>Other</td>\n      <td>Pentecostal</td>\n      <td>Widowed</td>\n      <td>Retired</td>\n      <td>...</td>\n      <td>0</td>\n      <td>0</td>\n      <td>0</td>\n      <td>0</td>\n      <td>0</td>\n      <td>0</td>\n      <td>0</td>\n      <td>0</td>\n      <td>0</td>\n      <td>0</td>\n    </tr>\n  </tbody>\n</table>\n<p>5 rows × 584 columns</p>\n</div>"
     },
     "execution_count": 18,
     "metadata": {},
     "output_type": "execute_result"
    }
   ],
   "source": [
    "import pandas as pd\n",
    "import numpy as np\n",
    "import time\n",
    "\n",
    "np.random.seed(33)\n",
    "\n",
    "df = pd.read_csv(\"../data/Cleaned_dat.csv\")\n",
    "# df = pd.read_csv(\"../data/allOnlyTriage.csv\")\n",
    "# df = df.drop(\"Unnamed: 0\", axis=1)\n",
    "\n",
    "print(df.shape)\n",
    "df.head()\n",
    "# df.dtypes"
   ]
  },
  {
   "cell_type": "code",
   "execution_count": null,
   "outputs": [],
   "source": [
    "for col in df.columns:\n",
    "    ratio = round(100* df[col].isnull().sum() / len(df), 2)\n",
    "    print(col, str(ratio) + '%')"
   ],
   "metadata": {
    "collapsed": false,
    "pycharm": {
     "name": "#%%\n"
    }
   }
  },
  {
   "cell_type": "markdown",
   "metadata": {},
   "source": [
    "## Find the NA ratio higher than 5%"
   ]
  },
  {
   "cell_type": "code",
   "execution_count": 4,
   "metadata": {},
   "outputs": [
    {
     "name": "stdout",
     "output_type": "stream",
     "text": [
      "original number of columns 584\n",
      "0\n",
      "after processing: 584\n"
     ]
    }
   ],
   "source": [
    "count = 0\n",
    "print(\"original number of columns\",len(df.columns))\n",
    "for col in df.columns:\n",
    "    ratio = round(100* df[col].isnull().sum() / len(df), 2)\n",
    "    if ratio>=5:\n",
    "        count = count+1\n",
    "        print(col)\n",
    "        df = df.drop(col,axis=1)\n",
    "#     print(col, str(round(100* df[col].isnull().sum() / len(df), 2)) + '%')\n",
    "\n",
    "print(count)\n",
    "print(\"after processing:\", len(df.columns))"
   ]
  },
  {
   "cell_type": "markdown",
   "metadata": {},
   "source": [
    "## Delete the row with NA"
   ]
  },
  {
   "cell_type": "code",
   "execution_count": 4,
   "metadata": {},
   "outputs": [
    {
     "name": "stdout",
     "output_type": "stream",
     "text": [
      "(534730, 296)\n",
      "(560486, 296)\n"
     ]
    }
   ],
   "source": [
    "cleaned_df = df.dropna()\n",
    "print(cleaned_df.shape)\n",
    "print(df.shape)\n",
    "df = df.dropna()"
   ]
  },
  {
   "cell_type": "markdown",
   "metadata": {},
   "source": [
    "## Save or Read the cleaned dataframe to csv"
   ]
  },
  {
   "cell_type": "code",
   "execution_count": 3,
   "metadata": {},
   "outputs": [
    {
     "name": "stdout",
     "output_type": "stream",
     "text": [
      "(534730, 20)\n"
     ]
    }
   ],
   "source": [
    "import pandas as pd\n",
    "import numpy as np\n",
    "import time\n",
    "\n",
    "np.random.seed(33)\n",
    "# df.to_csv(\"../data/cleanedOnlyTriage.csv\")\n",
    "df = pd.read_csv(\"../data/cleanedOnlyTriage.csv\")\n",
    "col = np.array( [0  ,3  ,5  ,7  ,9 ,10 ,13 ,23 ,24 ,27 ,46 ,48 ,50 ,54 ,60 ,61 ,62 ,64 ,65 ,69])\n",
    "\n",
    "df = df.iloc[:,col]\n",
    "print(df.shape)"
   ]
  },
  {
   "cell_type": "markdown",
   "metadata": {},
   "source": [
    "## Feature selection via mutual information"
   ]
  },
  {
   "cell_type": "code",
   "execution_count": 5,
   "metadata": {
    "pycharm": {
     "name": "#%%\n"
    }
   },
   "outputs": [
    {
     "name": "stdout",
     "output_type": "stream",
     "text": [
      "No. of training examples: 427784\n",
      "No. of testing examples: 106946\n"
     ]
    }
   ],
   "source": [
    "## Split the data into training and testing data\n",
    "from sklearn.model_selection import train_test_split\n",
    "\n",
    "training_data, testing_data = train_test_split(df, test_size=0.2, random_state=25)\n",
    "\n",
    "print(f\"No. of training examples: {training_data.shape[0]}\")\n",
    "print(f\"No. of testing examples: {testing_data.shape[0]}\")"
   ]
  },
  {
   "cell_type": "code",
   "execution_count": 13,
   "metadata": {
    "pycharm": {
     "name": "#%%\n"
    }
   },
   "outputs": [
    {
     "name": "stdout",
     "output_type": "stream",
     "text": [
      "[ 0  3  5  7  9 10 13 23 24 27 46 48 50 54 60 61 62 64 65 69]\n",
      "1330.7448439598083\n"
     ]
    }
   ],
   "source": [
    "from sklearn.feature_selection import SelectKBest\n",
    "from sklearn.feature_selection import mutual_info_classif, f_classif\n",
    "\n",
    "y_train = training_data.iloc[:,-1]\n",
    "y_test = testing_data.iloc[:,-1]\n",
    "X_train = training_data.iloc[:,:-1]\n",
    "X_test = testing_data.iloc[:,:-1]\n",
    "\n",
    "y_train = np.array(y_train)\n",
    "y_test = np.array(y_test)\n",
    "X_train = np.array(X_train)\n",
    "X_test = np.array(X_test)\n",
    "\n",
    "start = time.time()\n",
    "selector = SelectKBest(mutual_info_classif, k=20).fit(X_train, y_train)\n",
    "cols = selector.get_support(indices=True)\n",
    "end = time.time()\n",
    "print(cols) #[ 0  3  5  7  9 10 13 23 24 27 46 48 50 54 60 61 62 64 65 69]\n",
    "print(end-start)"
   ]
  },
  {
   "cell_type": "code",
   "execution_count": 16,
   "metadata": {
    "pycharm": {
     "name": "#%%\n"
    }
   },
   "outputs": [
    {
     "name": "stdout",
     "output_type": "stream",
     "text": [
      "(427784, 20)\n",
      "(106946, 20)\n"
     ]
    }
   ],
   "source": [
    "X_train_df = pd.DataFrame(X_train)\n",
    "X_train_smi = X_train_df.iloc[:,cols]\n",
    "X_test_df = pd.DataFrame(X_test)\n",
    "X_test_smi = X_test_df.iloc[:,cols]\n",
    "print(X_train_smi.shape)\n",
    "print(X_test_smi.shape)"
   ]
  },
  {
   "cell_type": "code",
   "execution_count": null,
   "metadata": {
    "pycharm": {
     "is_executing": true,
     "name": "#%%\n"
    }
   },
   "outputs": [],
   "source": [
    "# print(X_train.shape)\n",
    "# print(X_test.shape)\n",
    "# X_test = X_test[:10,]\n",
    "# y_test = y_test[:10,]\n",
    "\n",
    "X_train = np.array(X_train)\n",
    "X_test = np.array(X_test)\n",
    "\n",
    "# LogisticRegression(random_state=0).fit(X, y)"
   ]
  },
  {
   "cell_type": "markdown",
   "metadata": {
    "pycharm": {
     "name": "#%% md\n"
    }
   },
   "source": [
    "SVM"
   ]
  },
  {
   "cell_type": "code",
   "execution_count": null,
   "metadata": {
    "pycharm": {
     "name": "#%%\n"
    }
   },
   "outputs": [],
   "source": [
    "from sklearn.svm import SVC\n",
    "from sklearn.pipeline import make_pipeline\n",
    "from sklearn.preprocessing import StandardScaler\n",
    "sv_clf = SVC(kernel=\"linear\",random_state=1)\n",
    "sv_clf.fit(X_train, y_train)\n",
    "\n",
    "from sklearn.metrics import accuracy_score\n",
    "sv_clf_pred = sv_clf.predict(X_test)\n",
    "sv_clf_acc = accuracy_score(y_test,sv_clf_pred)\n",
    "\n",
    "sc_clf_acc_format = round(sv_clf_acc*100,2)\n",
    "print(\"Accuracy of linear SVM model\", sc_clf_acc_format)"
   ]
  },
  {
   "cell_type": "markdown",
   "metadata": {
    "pycharm": {
     "is_executing": true,
     "name": "#%% md\n"
    }
   },
   "source": [
    "Logistic Regression"
   ]
  },
  {
   "cell_type": "code",
   "execution_count": 26,
   "metadata": {
    "pycharm": {
     "name": "#%%\n"
    }
   },
   "outputs": [
    {
     "data": {
      "text/html": [
       "<div>\n",
       "<style scoped>\n",
       "    .dataframe tbody tr th:only-of-type {\n",
       "        vertical-align: middle;\n",
       "    }\n",
       "\n",
       "    .dataframe tbody tr th {\n",
       "        vertical-align: top;\n",
       "    }\n",
       "\n",
       "    .dataframe thead th {\n",
       "        text-align: right;\n",
       "    }\n",
       "</style>\n",
       "<table border=\"1\" class=\"dataframe\">\n",
       "  <thead>\n",
       "    <tr style=\"text-align: right;\">\n",
       "      <th></th>\n",
       "      <th>dep_name.A</th>\n",
       "      <th>esi.2</th>\n",
       "      <th>esi.3</th>\n",
       "      <th>esi.4</th>\n",
       "      <th>age</th>\n",
       "      <th>gender.Female</th>\n",
       "      <th>gender.Male</th>\n",
       "      <th>ethnicity.Non.Hispanic</th>\n",
       "      <th>race.White.or.Caucasian</th>\n",
       "      <th>lang.English</th>\n",
       "      <th>religion.Catholic</th>\n",
       "      <th>maritalstatus.Single</th>\n",
       "      <th>maritalstatus.Widowed</th>\n",
       "      <th>employstatus.Full.Time</th>\n",
       "      <th>employstatus.Retired</th>\n",
       "      <th>insurance_status.Medicaid</th>\n",
       "      <th>insurance_status.Medicare</th>\n",
       "      <th>arrivalmode.ambulance</th>\n",
       "      <th>arrivalmode.Car</th>\n",
       "      <th>arrivalmode.Walk.in</th>\n",
       "    </tr>\n",
       "  </thead>\n",
       "  <tbody>\n",
       "    <tr>\n",
       "      <th>0</th>\n",
       "      <td>0</td>\n",
       "      <td>0.0</td>\n",
       "      <td>0.0</td>\n",
       "      <td>1.0</td>\n",
       "      <td>40.0</td>\n",
       "      <td>0</td>\n",
       "      <td>1</td>\n",
       "      <td>0</td>\n",
       "      <td>1.0</td>\n",
       "      <td>1</td>\n",
       "      <td>0</td>\n",
       "      <td>1</td>\n",
       "      <td>0</td>\n",
       "      <td>1</td>\n",
       "      <td>0</td>\n",
       "      <td>0</td>\n",
       "      <td>0</td>\n",
       "      <td>0.0</td>\n",
       "      <td>0.0</td>\n",
       "      <td>1.0</td>\n",
       "    </tr>\n",
       "    <tr>\n",
       "      <th>1</th>\n",
       "      <td>0</td>\n",
       "      <td>0.0</td>\n",
       "      <td>0.0</td>\n",
       "      <td>1.0</td>\n",
       "      <td>66.0</td>\n",
       "      <td>0</td>\n",
       "      <td>1</td>\n",
       "      <td>0</td>\n",
       "      <td>0.0</td>\n",
       "      <td>1</td>\n",
       "      <td>0</td>\n",
       "      <td>0</td>\n",
       "      <td>0</td>\n",
       "      <td>0</td>\n",
       "      <td>0</td>\n",
       "      <td>0</td>\n",
       "      <td>0</td>\n",
       "      <td>0.0</td>\n",
       "      <td>1.0</td>\n",
       "      <td>0.0</td>\n",
       "    </tr>\n",
       "    <tr>\n",
       "      <th>2</th>\n",
       "      <td>0</td>\n",
       "      <td>1.0</td>\n",
       "      <td>0.0</td>\n",
       "      <td>0.0</td>\n",
       "      <td>66.0</td>\n",
       "      <td>0</td>\n",
       "      <td>1</td>\n",
       "      <td>0</td>\n",
       "      <td>0.0</td>\n",
       "      <td>1</td>\n",
       "      <td>0</td>\n",
       "      <td>0</td>\n",
       "      <td>0</td>\n",
       "      <td>0</td>\n",
       "      <td>0</td>\n",
       "      <td>0</td>\n",
       "      <td>0</td>\n",
       "      <td>0.0</td>\n",
       "      <td>0.0</td>\n",
       "      <td>1.0</td>\n",
       "    </tr>\n",
       "    <tr>\n",
       "      <th>3</th>\n",
       "      <td>1</td>\n",
       "      <td>1.0</td>\n",
       "      <td>0.0</td>\n",
       "      <td>0.0</td>\n",
       "      <td>66.0</td>\n",
       "      <td>0</td>\n",
       "      <td>1</td>\n",
       "      <td>0</td>\n",
       "      <td>0.0</td>\n",
       "      <td>1</td>\n",
       "      <td>0</td>\n",
       "      <td>0</td>\n",
       "      <td>0</td>\n",
       "      <td>0</td>\n",
       "      <td>0</td>\n",
       "      <td>0</td>\n",
       "      <td>0</td>\n",
       "      <td>0.0</td>\n",
       "      <td>1.0</td>\n",
       "      <td>0.0</td>\n",
       "    </tr>\n",
       "    <tr>\n",
       "      <th>4</th>\n",
       "      <td>1</td>\n",
       "      <td>0.0</td>\n",
       "      <td>1.0</td>\n",
       "      <td>0.0</td>\n",
       "      <td>84.0</td>\n",
       "      <td>1</td>\n",
       "      <td>0</td>\n",
       "      <td>0</td>\n",
       "      <td>0.0</td>\n",
       "      <td>0</td>\n",
       "      <td>0</td>\n",
       "      <td>0</td>\n",
       "      <td>1</td>\n",
       "      <td>0</td>\n",
       "      <td>1</td>\n",
       "      <td>0</td>\n",
       "      <td>1</td>\n",
       "      <td>0.0</td>\n",
       "      <td>0.0</td>\n",
       "      <td>1.0</td>\n",
       "    </tr>\n",
       "  </tbody>\n",
       "</table>\n",
       "</div>"
      ],
      "text/plain": [
       "   dep_name.A  esi.2  esi.3  esi.4   age  gender.Female  gender.Male  \\\n",
       "0           0    0.0    0.0    1.0  40.0              0            1   \n",
       "1           0    0.0    0.0    1.0  66.0              0            1   \n",
       "2           0    1.0    0.0    0.0  66.0              0            1   \n",
       "3           1    1.0    0.0    0.0  66.0              0            1   \n",
       "4           1    0.0    1.0    0.0  84.0              1            0   \n",
       "\n",
       "   ethnicity.Non.Hispanic  race.White.or.Caucasian  lang.English  \\\n",
       "0                       0                      1.0             1   \n",
       "1                       0                      0.0             1   \n",
       "2                       0                      0.0             1   \n",
       "3                       0                      0.0             1   \n",
       "4                       0                      0.0             0   \n",
       "\n",
       "   religion.Catholic  maritalstatus.Single  maritalstatus.Widowed  \\\n",
       "0                  0                     1                      0   \n",
       "1                  0                     0                      0   \n",
       "2                  0                     0                      0   \n",
       "3                  0                     0                      0   \n",
       "4                  0                     0                      1   \n",
       "\n",
       "   employstatus.Full.Time  employstatus.Retired  insurance_status.Medicaid  \\\n",
       "0                       1                     0                          0   \n",
       "1                       0                     0                          0   \n",
       "2                       0                     0                          0   \n",
       "3                       0                     0                          0   \n",
       "4                       0                     1                          0   \n",
       "\n",
       "   insurance_status.Medicare  arrivalmode.ambulance  arrivalmode.Car  \\\n",
       "0                          0                    0.0              0.0   \n",
       "1                          0                    0.0              1.0   \n",
       "2                          0                    0.0              0.0   \n",
       "3                          0                    0.0              1.0   \n",
       "4                          1                    0.0              0.0   \n",
       "\n",
       "   arrivalmode.Walk.in  \n",
       "0                  1.0  \n",
       "1                  0.0  \n",
       "2                  1.0  \n",
       "3                  0.0  \n",
       "4                  1.0  "
      ]
     },
     "execution_count": 26,
     "metadata": {},
     "output_type": "execute_result"
    }
   ],
   "source": [
    "import pandas as pd\n",
    "import numpy as np\n",
    "import time\n",
    "\n",
    "np.random.seed(33)\n",
    "df = pd.read_csv(\"../data/featureSelectedOnlyTriage.csv\")\n",
    "df = df.drop(df.columns[0],axis=1)\n",
    "# df = df.drop(df.columns[0],axis=1)\n",
    "df.head()"
   ]
  },
  {
   "cell_type": "code",
   "execution_count": 24,
   "metadata": {
    "pycharm": {
     "name": "#%%\n"
    }
   },
   "outputs": [
    {
     "name": "stderr",
     "output_type": "stream",
     "text": [
      "/Users/yuxuan/opt/anaconda3/envs/dp3.7/lib/python3.7/site-packages/sklearn/linear_model/_logistic.py:765: ConvergenceWarning: lbfgs failed to converge (status=1):\n",
      "STOP: TOTAL NO. of ITERATIONS REACHED LIMIT.\n",
      "\n",
      "Increase the number of iterations (max_iter) or scale the data as shown in:\n",
      "    https://scikit-learn.org/stable/modules/preprocessing.html\n",
      "Please also refer to the documentation for alternative solver options:\n",
      "    https://scikit-learn.org/stable/modules/linear_model.html#logistic-regression\n",
      "  extra_warning_msg=_LOGISTIC_SOLVER_CONVERGENCE_MSG)\n"
     ]
    },
    {
     "data": {
      "text/plain": [
       "0.8"
      ]
     },
     "execution_count": 24,
     "metadata": {},
     "output_type": "execute_result"
    }
   ],
   "source": [
    "from sklearn.linear_model import LogisticRegression\n",
    "from sklearn.model_selection import train_test_split\n",
    "\n",
    "training_data, testing_data = train_test_split(df, test_size=0.2, random_state=25)\n",
    "\n",
    "y_train = training_data.iloc[:,-1]\n",
    "y_test = testing_data.iloc[:,-1]\n",
    "X_train = training_data.iloc[:,:-1]\n",
    "X_test = testing_data.iloc[:,:-1]\n",
    "\n",
    "y_train = np.array(y_train)[:100,]\n",
    "y_test = np.array(y_test)[:10,]\n",
    "X_train = np.array(X_train)[:100,]\n",
    "X_test = np.array(X_test)[:10,]\n",
    "clf = LogisticRegression(random_state=0).fit(X_train, y_train)\n",
    "clf.score(X_test,y_test)"
   ]
  },
  {
   "cell_type": "code",
   "execution_count": null,
   "metadata": {
    "pycharm": {
     "name": "#%%\n"
    }
   },
   "outputs": [],
   "source": []
  }
 ],
 "metadata": {
  "kernelspec": {
   "display_name": "PyCharm (proj4CM)",
   "language": "python",
   "name": "pycharm-f3dbbc4a"
  },
  "language_info": {
   "codemirror_mode": {
    "name": "ipython",
    "version": 3
   },
   "file_extension": ".py",
   "mimetype": "text/x-python",
   "name": "python",
   "nbconvert_exporter": "python",
   "pygments_lexer": "ipython3",
   "version": "3.7.0"
  }
 },
 "nbformat": 4,
 "nbformat_minor": 1
}