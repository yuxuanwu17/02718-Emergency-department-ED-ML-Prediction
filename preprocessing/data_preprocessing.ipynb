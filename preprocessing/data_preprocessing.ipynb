{
 "cells": [
  {
   "cell_type": "code",
   "source": [
    "import pandas as pd\n",
    "import numpy as np\n",
    "import time\n",
    "\n",
    "np.random.seed(33)\n",
    "df = pd.read_csv(\"../data/featureSelectedAllDataWithY.csv\")\n",
    "# df = pd.read_csv(\"../data/Cleaned_dat_encoded.csv\")\n",
    "print(df.shape)\n",
    "df.head()"
   ],
   "metadata": {
    "collapsed": false,
    "pycharm": {
     "name": "#%%\n"
    }
   },
   "execution_count": 42,
   "outputs": [
    {
     "name": "stdout",
     "output_type": "stream",
     "text": [
      "(534730, 21)\n"
     ]
    },
    {
     "data": {
      "text/plain": "   esi  age  ethnicity  race  lang  maritalstatus  employstatus  \\\n0    4   40          1     8     1              8             2   \n1    4   66          1     4     1              5             3   \n2    2   66          1     4     1              5             3   \n3    2   66          1     4     1              5             3   \n4    3   84          1     5     2             10             6   \n\n   insurance_status  arrivalmode  previousdispo  ...  meds_analgesics  \\\n0                 4            6              7  ...                0   \n1                 1            2              7  ...                0   \n2                 1            6              3  ...                0   \n3                 1            2              3  ...                0   \n4                 3            6              3  ...                0   \n\n   meds_antiplateletdrugs  meds_cardiacdrugs  meds_cardiovascular  \\\n0                       0                  0                    0   \n1                       0                  0                    0   \n2                       0                  0                    0   \n3                       0                  0                    0   \n4                       0                  0                    2   \n\n   meds_diuretics  meds_elect/caloric/h2o  meds_gastrointestinal  \\\n0               0                       0                      0   \n1               0                       0                      0   \n2               0                       0                      0   \n3               0                       0                      0   \n4               1                       2                      2   \n\n   meds_psychotherapeuticdrugs  meds_vitamins  disposition  \n0                            0              0            2  \n1                            0              0            2  \n2                            0              0            2  \n3                            0              0            2  \n4                            0              1            1  \n\n[5 rows x 21 columns]",
      "text/html": "<div>\n<style scoped>\n    .dataframe tbody tr th:only-of-type {\n        vertical-align: middle;\n    }\n\n    .dataframe tbody tr th {\n        vertical-align: top;\n    }\n\n    .dataframe thead th {\n        text-align: right;\n    }\n</style>\n<table border=\"1\" class=\"dataframe\">\n  <thead>\n    <tr style=\"text-align: right;\">\n      <th></th>\n      <th>esi</th>\n      <th>age</th>\n      <th>ethnicity</th>\n      <th>race</th>\n      <th>lang</th>\n      <th>maritalstatus</th>\n      <th>employstatus</th>\n      <th>insurance_status</th>\n      <th>arrivalmode</th>\n      <th>previousdispo</th>\n      <th>...</th>\n      <th>meds_analgesics</th>\n      <th>meds_antiplateletdrugs</th>\n      <th>meds_cardiacdrugs</th>\n      <th>meds_cardiovascular</th>\n      <th>meds_diuretics</th>\n      <th>meds_elect/caloric/h2o</th>\n      <th>meds_gastrointestinal</th>\n      <th>meds_psychotherapeuticdrugs</th>\n      <th>meds_vitamins</th>\n      <th>disposition</th>\n    </tr>\n  </thead>\n  <tbody>\n    <tr>\n      <th>0</th>\n      <td>4</td>\n      <td>40</td>\n      <td>1</td>\n      <td>8</td>\n      <td>1</td>\n      <td>8</td>\n      <td>2</td>\n      <td>4</td>\n      <td>6</td>\n      <td>7</td>\n      <td>...</td>\n      <td>0</td>\n      <td>0</td>\n      <td>0</td>\n      <td>0</td>\n      <td>0</td>\n      <td>0</td>\n      <td>0</td>\n      <td>0</td>\n      <td>0</td>\n      <td>2</td>\n    </tr>\n    <tr>\n      <th>1</th>\n      <td>4</td>\n      <td>66</td>\n      <td>1</td>\n      <td>4</td>\n      <td>1</td>\n      <td>5</td>\n      <td>3</td>\n      <td>1</td>\n      <td>2</td>\n      <td>7</td>\n      <td>...</td>\n      <td>0</td>\n      <td>0</td>\n      <td>0</td>\n      <td>0</td>\n      <td>0</td>\n      <td>0</td>\n      <td>0</td>\n      <td>0</td>\n      <td>0</td>\n      <td>2</td>\n    </tr>\n    <tr>\n      <th>2</th>\n      <td>2</td>\n      <td>66</td>\n      <td>1</td>\n      <td>4</td>\n      <td>1</td>\n      <td>5</td>\n      <td>3</td>\n      <td>1</td>\n      <td>6</td>\n      <td>3</td>\n      <td>...</td>\n      <td>0</td>\n      <td>0</td>\n      <td>0</td>\n      <td>0</td>\n      <td>0</td>\n      <td>0</td>\n      <td>0</td>\n      <td>0</td>\n      <td>0</td>\n      <td>2</td>\n    </tr>\n    <tr>\n      <th>3</th>\n      <td>2</td>\n      <td>66</td>\n      <td>1</td>\n      <td>4</td>\n      <td>1</td>\n      <td>5</td>\n      <td>3</td>\n      <td>1</td>\n      <td>2</td>\n      <td>3</td>\n      <td>...</td>\n      <td>0</td>\n      <td>0</td>\n      <td>0</td>\n      <td>0</td>\n      <td>0</td>\n      <td>0</td>\n      <td>0</td>\n      <td>0</td>\n      <td>0</td>\n      <td>2</td>\n    </tr>\n    <tr>\n      <th>4</th>\n      <td>3</td>\n      <td>84</td>\n      <td>1</td>\n      <td>5</td>\n      <td>2</td>\n      <td>10</td>\n      <td>6</td>\n      <td>3</td>\n      <td>6</td>\n      <td>3</td>\n      <td>...</td>\n      <td>0</td>\n      <td>0</td>\n      <td>0</td>\n      <td>2</td>\n      <td>1</td>\n      <td>2</td>\n      <td>2</td>\n      <td>0</td>\n      <td>1</td>\n      <td>1</td>\n    </tr>\n  </tbody>\n</table>\n<p>5 rows × 21 columns</p>\n</div>"
     },
     "execution_count": 42,
     "metadata": {},
     "output_type": "execute_result"
    }
   ]
  },
  {
   "cell_type": "markdown",
   "source": [
    "## Correlation analysis"
   ],
   "metadata": {
    "collapsed": false
   }
  },
  {
   "cell_type": "code",
   "execution_count": 43,
   "outputs": [
    {
     "data": {
      "text/plain": "esi                            0.431877\nage                           -0.374109\nrace                          -0.136434\nemploystatus                  -0.135497\narrivalmode                    0.177370\npreviousdispo                  0.145210\nhtn                           -0.261439\nmeds_analgesics               -0.338007\nmeds_antiplateletdrugs        -0.333516\nmeds_cardiacdrugs             -0.308993\nmeds_cardiovascular           -0.441590\nmeds_diuretics                -0.317732\nmeds_elect/caloric/h2o        -0.308729\nmeds_gastrointestinal         -0.390537\nmeds_psychotherapeuticdrugs   -0.323160\nmeds_vitamins                 -0.348034\ndisposition                    1.000000\nName: disposition, dtype: float64"
     },
     "execution_count": 43,
     "metadata": {},
     "output_type": "execute_result"
    }
   ],
   "source": [
    "health_data = df.copy()\n",
    "\n",
    "feature_corr = health_data.corr()\n",
    "feature_corr[abs(feature_corr['disposition']) > 0.1]['disposition']"
   ],
   "metadata": {
    "collapsed": false,
    "pycharm": {
     "name": "#%%\n"
    }
   }
  },
  {
   "cell_type": "code",
   "execution_count": 44,
   "outputs": [
    {
     "name": "stdout",
     "output_type": "stream",
     "text": [
      "esi                            0.431877\n",
      "age                           -0.374109\n",
      "htn                           -0.261439\n",
      "meds_analgesics               -0.338007\n",
      "meds_antiplateletdrugs        -0.333516\n",
      "meds_cardiacdrugs             -0.308993\n",
      "meds_cardiovascular           -0.441590\n",
      "meds_diuretics                -0.317732\n",
      "meds_elect/caloric/h2o        -0.308729\n",
      "meds_gastrointestinal         -0.390537\n",
      "meds_psychotherapeuticdrugs   -0.323160\n",
      "meds_vitamins                 -0.348034\n",
      "disposition                    1.000000\n",
      "Name: disposition, dtype: float64\n",
      "13\n"
     ]
    }
   ],
   "source": [
    "print(feature_corr[abs(feature_corr['disposition']) > 0.2]['disposition'])\n",
    "print(len(feature_corr[abs(feature_corr['disposition']) > 0.2]['disposition']))\n"
   ],
   "metadata": {
    "collapsed": false,
    "pycharm": {
     "name": "#%%\n"
    }
   }
  },
  {
   "cell_type": "code",
   "execution_count": null,
   "outputs": [],
   "source": [
    "\n"
   ],
   "metadata": {
    "collapsed": false,
    "pycharm": {
     "name": "#%%\n"
    }
   }
  }
 ],
 "metadata": {
  "kernelspec": {
   "display_name": "Python 3",
   "language": "python",
   "name": "python3"
  },
  "language_info": {
   "codemirror_mode": {
    "name": "ipython",
    "version": 2
   },
   "file_extension": ".py",
   "mimetype": "text/x-python",
   "name": "python",
   "nbconvert_exporter": "python",
   "pygments_lexer": "ipython2",
   "version": "2.7.6"
  }
 },
 "nbformat": 4,
 "nbformat_minor": 0
}