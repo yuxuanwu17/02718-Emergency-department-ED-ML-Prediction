{
 "cells": [
  {
   "cell_type": "markdown",
   "metadata": {},
   "source": [
    "## Read the feature selected  data frame via mutual information"
   ]
  },
  {
   "cell_type": "code",
   "execution_count": 78,
   "metadata": {},
   "outputs": [
    {
     "name": "stdout",
     "output_type": "stream",
     "text": [
      "(534730, 21)\n"
     ]
    },
    {
     "data": {
      "text/html": [
       "<div>\n",
       "<style scoped>\n",
       "    .dataframe tbody tr th:only-of-type {\n",
       "        vertical-align: middle;\n",
       "    }\n",
       "\n",
       "    .dataframe tbody tr th {\n",
       "        vertical-align: top;\n",
       "    }\n",
       "\n",
       "    .dataframe thead th {\n",
       "        text-align: right;\n",
       "    }\n",
       "</style>\n",
       "<table border=\"1\" class=\"dataframe\">\n",
       "  <thead>\n",
       "    <tr style=\"text-align: right;\">\n",
       "      <th></th>\n",
       "      <th>esi</th>\n",
       "      <th>age</th>\n",
       "      <th>ethnicity</th>\n",
       "      <th>race</th>\n",
       "      <th>lang</th>\n",
       "      <th>maritalstatus</th>\n",
       "      <th>employstatus</th>\n",
       "      <th>insurance_status</th>\n",
       "      <th>arrivalmode</th>\n",
       "      <th>previousdispo</th>\n",
       "      <th>...</th>\n",
       "      <th>meds_analgesics</th>\n",
       "      <th>meds_antiplateletdrugs</th>\n",
       "      <th>meds_cardiacdrugs</th>\n",
       "      <th>meds_cardiovascular</th>\n",
       "      <th>meds_diuretics</th>\n",
       "      <th>meds_elect/caloric/h2o</th>\n",
       "      <th>meds_gastrointestinal</th>\n",
       "      <th>meds_psychotherapeuticdrugs</th>\n",
       "      <th>meds_vitamins</th>\n",
       "      <th>disposition</th>\n",
       "    </tr>\n",
       "  </thead>\n",
       "  <tbody>\n",
       "    <tr>\n",
       "      <th>0</th>\n",
       "      <td>4</td>\n",
       "      <td>40</td>\n",
       "      <td>1</td>\n",
       "      <td>8</td>\n",
       "      <td>1</td>\n",
       "      <td>8</td>\n",
       "      <td>2</td>\n",
       "      <td>4</td>\n",
       "      <td>6</td>\n",
       "      <td>7</td>\n",
       "      <td>...</td>\n",
       "      <td>0</td>\n",
       "      <td>0</td>\n",
       "      <td>0</td>\n",
       "      <td>0</td>\n",
       "      <td>0</td>\n",
       "      <td>0</td>\n",
       "      <td>0</td>\n",
       "      <td>0</td>\n",
       "      <td>0</td>\n",
       "      <td>2</td>\n",
       "    </tr>\n",
       "    <tr>\n",
       "      <th>1</th>\n",
       "      <td>4</td>\n",
       "      <td>66</td>\n",
       "      <td>1</td>\n",
       "      <td>4</td>\n",
       "      <td>1</td>\n",
       "      <td>5</td>\n",
       "      <td>3</td>\n",
       "      <td>1</td>\n",
       "      <td>2</td>\n",
       "      <td>7</td>\n",
       "      <td>...</td>\n",
       "      <td>0</td>\n",
       "      <td>0</td>\n",
       "      <td>0</td>\n",
       "      <td>0</td>\n",
       "      <td>0</td>\n",
       "      <td>0</td>\n",
       "      <td>0</td>\n",
       "      <td>0</td>\n",
       "      <td>0</td>\n",
       "      <td>2</td>\n",
       "    </tr>\n",
       "    <tr>\n",
       "      <th>2</th>\n",
       "      <td>2</td>\n",
       "      <td>66</td>\n",
       "      <td>1</td>\n",
       "      <td>4</td>\n",
       "      <td>1</td>\n",
       "      <td>5</td>\n",
       "      <td>3</td>\n",
       "      <td>1</td>\n",
       "      <td>6</td>\n",
       "      <td>3</td>\n",
       "      <td>...</td>\n",
       "      <td>0</td>\n",
       "      <td>0</td>\n",
       "      <td>0</td>\n",
       "      <td>0</td>\n",
       "      <td>0</td>\n",
       "      <td>0</td>\n",
       "      <td>0</td>\n",
       "      <td>0</td>\n",
       "      <td>0</td>\n",
       "      <td>2</td>\n",
       "    </tr>\n",
       "    <tr>\n",
       "      <th>3</th>\n",
       "      <td>2</td>\n",
       "      <td>66</td>\n",
       "      <td>1</td>\n",
       "      <td>4</td>\n",
       "      <td>1</td>\n",
       "      <td>5</td>\n",
       "      <td>3</td>\n",
       "      <td>1</td>\n",
       "      <td>2</td>\n",
       "      <td>3</td>\n",
       "      <td>...</td>\n",
       "      <td>0</td>\n",
       "      <td>0</td>\n",
       "      <td>0</td>\n",
       "      <td>0</td>\n",
       "      <td>0</td>\n",
       "      <td>0</td>\n",
       "      <td>0</td>\n",
       "      <td>0</td>\n",
       "      <td>0</td>\n",
       "      <td>2</td>\n",
       "    </tr>\n",
       "    <tr>\n",
       "      <th>4</th>\n",
       "      <td>3</td>\n",
       "      <td>84</td>\n",
       "      <td>1</td>\n",
       "      <td>5</td>\n",
       "      <td>2</td>\n",
       "      <td>10</td>\n",
       "      <td>6</td>\n",
       "      <td>3</td>\n",
       "      <td>6</td>\n",
       "      <td>3</td>\n",
       "      <td>...</td>\n",
       "      <td>0</td>\n",
       "      <td>0</td>\n",
       "      <td>0</td>\n",
       "      <td>2</td>\n",
       "      <td>1</td>\n",
       "      <td>2</td>\n",
       "      <td>2</td>\n",
       "      <td>0</td>\n",
       "      <td>1</td>\n",
       "      <td>1</td>\n",
       "    </tr>\n",
       "  </tbody>\n",
       "</table>\n",
       "<p>5 rows × 21 columns</p>\n",
       "</div>"
      ],
      "text/plain": [
       "   esi  age  ethnicity  race  lang  maritalstatus  employstatus  \\\n",
       "0    4   40          1     8     1              8             2   \n",
       "1    4   66          1     4     1              5             3   \n",
       "2    2   66          1     4     1              5             3   \n",
       "3    2   66          1     4     1              5             3   \n",
       "4    3   84          1     5     2             10             6   \n",
       "\n",
       "   insurance_status  arrivalmode  previousdispo  ...  meds_analgesics  \\\n",
       "0                 4            6              7  ...                0   \n",
       "1                 1            2              7  ...                0   \n",
       "2                 1            6              3  ...                0   \n",
       "3                 1            2              3  ...                0   \n",
       "4                 3            6              3  ...                0   \n",
       "\n",
       "   meds_antiplateletdrugs  meds_cardiacdrugs  meds_cardiovascular  \\\n",
       "0                       0                  0                    0   \n",
       "1                       0                  0                    0   \n",
       "2                       0                  0                    0   \n",
       "3                       0                  0                    0   \n",
       "4                       0                  0                    2   \n",
       "\n",
       "   meds_diuretics  meds_elect/caloric/h2o  meds_gastrointestinal  \\\n",
       "0               0                       0                      0   \n",
       "1               0                       0                      0   \n",
       "2               0                       0                      0   \n",
       "3               0                       0                      0   \n",
       "4               1                       2                      2   \n",
       "\n",
       "   meds_psychotherapeuticdrugs  meds_vitamins  disposition  \n",
       "0                            0              0            2  \n",
       "1                            0              0            2  \n",
       "2                            0              0            2  \n",
       "3                            0              0            2  \n",
       "4                            0              1            1  \n",
       "\n",
       "[5 rows x 21 columns]"
      ]
     },
     "execution_count": 78,
     "metadata": {},
     "output_type": "execute_result"
    }
   ],
   "source": [
    "import pandas as pd\n",
    "import numpy as np\n",
    "import time\n",
    "\n",
    "np.random.seed(33)\n",
    "df = pd.read_csv(\"./data/featureSelectedAllDataWithY.csv\")\n",
    "# df = pd.read_csv(\"../data/Cleaned_dat_encoded.csv\")\n",
    "print(df.shape)\n",
    "df.head()"
   ]
  },
  {
   "cell_type": "markdown",
   "metadata": {},
   "source": [
    "## Visualize the imbalance of the data"
   ]
  },
  {
   "cell_type": "code",
   "execution_count": 84,
   "metadata": {},
   "outputs": [
    {
     "data": {
      "text/plain": [
       "Counter({2: 370007, 1: 164723})"
      ]
     },
     "execution_count": 84,
     "metadata": {},
     "output_type": "execute_result"
    }
   ],
   "source": [
    "dis = df[\"disposition\"]\n",
    "from collections import Counter\n",
    "Counter(dis)"
   ]
  },
  {
   "cell_type": "code",
   "execution_count": 50,
   "metadata": {
    "pycharm": {
     "name": "#%%\n"
    }
   },
   "outputs": [],
   "source": [
    "from sklearn.preprocessing import StandardScaler\n",
    "from sklearn.model_selection import train_test_split\n",
    "\n",
    "training_data, testing_data = train_test_split(df, test_size=0.2, random_state=25)\n",
    "\n",
    "y_train = training_data['disposition']\n",
    "y_test = testing_data['disposition']\n",
    "X_train = StandardScaler().fit_transform(training_data.drop(\"disposition\",axis = 1))\n",
    "X_test = StandardScaler().fit_transform(testing_data.drop(\"disposition\",axis = 1))\n",
    "\n",
    "y_train = np.array(y_train)[:100]\n",
    "y_test = np.array(y_test)[:10]\n",
    "X_train = np.array(X_train)[:100,]\n",
    "X_test = np.array(X_test)[:10,]\n"
   ]
  },
  {
   "cell_type": "markdown",
   "metadata": {},
   "source": [
    "## Grid search for XGBoost"
   ]
  },
  {
   "cell_type": "code",
   "execution_count": 52,
   "metadata": {
    "pycharm": {
     "name": "#%%\n"
    }
   },
   "outputs": [
    {
     "name": "stdout",
     "output_type": "stream",
     "text": [
      "[15:54:30] WARNING: /opt/concourse/worker/volumes/live/7a2b9f41-3287-451b-6691-43e9a6c0910f/volume/xgboost-split_1619728204606/work/src/learner.cc:1061: Starting in XGBoost 1.3.0, the default evaluation metric used with the objective 'binary:logistic' was changed from 'error' to 'logloss'. Explicitly set eval_metric if you'd like to restore the old behavior.\n",
      "Best cross validation accuracy: 0.85\n",
      "Test set score: 0.90\n",
      "Best parameters: {'max_depth': 7, 'n_estimators': 10}\n"
     ]
    }
   ],
   "source": [
    "import xgboost as xgb\n",
    "from xgboost import XGBClassifier\n",
    "from sklearn.model_selection import GridSearchCV\n",
    "from sklearn.model_selection import train_test_split\n",
    "import warnings\n",
    "warnings.filterwarnings(\"ignore\")\n",
    "\n",
    "param_grid = [{'max_depth' : [7,10,15],\n",
    "               'n_estimators' : [10,30,1]}]\n",
    "\n",
    "clf = GridSearchCV(XGBClassifier(learning_rate=0.3,n_jobs=-1,random_state=0, objective='binary:logistic'), \n",
    "                   param_grid = param_grid, cv = 5, n_jobs=-1,verbose=False)\n",
    "best_clf = clf.fit(X_train, y_train)\n",
    "\n",
    "print(\"Best cross validation accuracy: {:.2f}\".format(best_clf.best_score_))\n",
    "print(\"Test set score: {:.2f}\".format(best_clf.score(X_test,y_test)))\n",
    "print(\"Best parameters: {}\".format(best_clf.best_params_))"
   ]
  },
  {
   "cell_type": "code",
   "execution_count": 81,
   "metadata": {},
   "outputs": [
    {
     "name": "stdout",
     "output_type": "stream",
     "text": [
      "[16:19:00] WARNING: /opt/concourse/worker/volumes/live/7a2b9f41-3287-451b-6691-43e9a6c0910f/volume/xgboost-split_1619728204606/work/src/learner.cc:1061: Starting in XGBoost 1.3.0, the default evaluation metric used with the objective 'binary:logistic' was changed from 'error' to 'logloss'. Explicitly set eval_metric if you'd like to restore the old behavior.\n",
      "[[2 1]\n",
      " [0 7]]\n",
      "0.9\n"
     ]
    }
   ],
   "source": [
    "from sklearn.metrics import confusion_matrix, accuracy_score\n",
    "max_depth = best_clf.best_params_['max_depth']\n",
    "n_estimators = best_clf.best_params_['n_estimators']\n",
    "\n",
    "clf = XGBClassifier(n_estimators=n_estimators,max_depth=max_depth,\n",
    "                    learning_rate=0.3,n_jobs=-1,random_state=0,scale_pos_weight=2.3,\n",
    "                    objective='binary:logistic').fit(X_train, y_train)\n",
    "\n",
    "y_pred = clf.predict(X_test)\n",
    "cm = confusion_matrix(y_test, y_pred)\n",
    "ac = accuracy_score(y_test, y_pred)\n",
    "print(cm)\n",
    "print(ac)"
   ]
  },
  {
   "cell_type": "markdown",
   "metadata": {},
   "source": [
    "# Results visualization"
   ]
  },
  {
   "cell_type": "markdown",
   "metadata": {},
   "source": [
    "## Confusion matrix"
   ]
  },
  {
   "cell_type": "code",
   "execution_count": 6,
   "metadata": {
    "pycharm": {
     "name": "#%%\n"
    }
   },
   "outputs": [
    {
     "data": {
      "image/png": "[encoded data removed]",
      "text/plain": [
       "<Figure size 432x288 with 2 Axes>"
      ]
     },
     "metadata": {
      "needs_background": "light"
     },
     "output_type": "display_data"
    }
   ],
   "source": [
    "%matplotlib inline\n",
    "import matplotlib.pyplot as plt\n",
    "from sklearn.metrics import confusion_matrix, plot_confusion_matrix\n",
    "plot_confusion_matrix(clf,X_test,y_test)\n",
    "plt.title(\"Logistic Regression Model - Confusion Matrix\")\n",
    "plt.xticks(range(2), [\"Admit\", \"Discharge\"], fontsize=8)\n",
    "plt.yticks(range(2), [\"Admit\", \"Discharge\"], fontsize=8)\n",
    "plt.show()"
   ]
  },
  {
   "cell_type": "markdown",
   "metadata": {},
   "source": [
    "## Precision Recall curve"
   ]
  },
  {
   "cell_type": "code",
   "execution_count": 7,
   "metadata": {
    "pycharm": {
     "name": "#%%\n"
    }
   },
   "outputs": [
    {
     "data": {
      "text/plain": [
       "<sklearn.metrics._plot.precision_recall_curve.PrecisionRecallDisplay at 0x7ff5a7c57208>"
      ]
     },
     "execution_count": 7,
     "metadata": {},
     "output_type": "execute_result"
    },
    {
     "data": {
      "image/png": "[encoded data removed]",
      "text/plain": [
       "<Figure size 432x288 with 1 Axes>"
      ]
     },
     "metadata": {
      "needs_background": "light"
     },
     "output_type": "display_data"
    }
   ],
   "source": [
    "from sklearn.metrics import plot_roc_curve, plot_precision_recall_curve\n",
    "plot_precision_recall_curve(clf,X_test,y_test,pos_label=1)"
   ]
  },
  {
   "cell_type": "markdown",
   "metadata": {},
   "source": [
    "## ROC curve"
   ]
  },
  {
   "cell_type": "code",
   "execution_count": 8,
   "metadata": {
    "pycharm": {
     "name": "#%%\n"
    }
   },
   "outputs": [
    {
     "data": {
      "text/plain": [
       "<sklearn.metrics._plot.roc_curve.RocCurveDisplay at 0x7ff5a7e67828>"
      ]
     },
     "execution_count": 8,
     "metadata": {},
     "output_type": "execute_result"
    },
    {
     "data": {
      "image/png": "[encoded data removed]",
      "text/plain": [
       "<Figure size 432x288 with 1 Axes>"
      ]
     },
     "metadata": {
      "needs_background": "light"
     },
     "output_type": "display_data"
    }
   ],
   "source": [
    "plot_roc_curve(clf,X_test,y_test,pos_label=1)"
   ]
  },
  {
   "cell_type": "markdown",
   "metadata": {},
   "source": [
    "## Quantative matrix"
   ]
  },
  {
   "cell_type": "code",
   "execution_count": 9,
   "metadata": {
    "pycharm": {
     "name": "#%%\n"
    }
   },
   "outputs": [
    {
     "name": "stdout",
     "output_type": "stream",
     "text": [
      "              precision    recall  f1-score   support\n",
      "\n",
      "       Admit       1.00      0.67      0.80         3\n",
      "   Discharge       0.88      1.00      0.93         7\n",
      "\n",
      "    accuracy                           0.90        10\n",
      "   macro avg       0.94      0.83      0.87        10\n",
      "weighted avg       0.91      0.90      0.89        10\n",
      "\n",
      "Balanced Accuracy:0.83\n",
      "Matthews Corr Coef:0.76\n"
     ]
    }
   ],
   "source": [
    "from sklearn.metrics import classification_report\n",
    "from sklearn.metrics import matthews_corrcoef\n",
    "from sklearn.metrics import balanced_accuracy_score\n",
    "\n",
    "print(classification_report(y_test, y_pred, target_names=[\"Admit\", \"Discharge\"]))\n",
    "print(\"Balanced Accuracy:\" + format(balanced_accuracy_score(y_test,y_pred),'.2f'))\n",
    "print(\"Matthews Corr Coef:\" + format(matthews_corrcoef(y_test,y_pred),'.2f'))"
   ]
  },
  {
   "cell_type": "markdown",
   "metadata": {},
   "source": [
    "## Statistic measurement of the model"
   ]
  },
  {
   "cell_type": "code",
   "execution_count": 10,
   "metadata": {
    "pycharm": {
     "name": "#%%\n"
    }
   },
   "outputs": [
    {
     "name": "stdout",
     "output_type": "stream",
     "text": [
      "+----------+--------+--------+--------+-----------+-----+--------+\n",
      "| Accuracy | auROC  | auPRC  | recall | precision |  f1 |  MCC   |\n",
      "+----------+--------+--------+--------+-----------+-----+--------+\n",
      "|   0.9    | 0.9762 | 0.9167 | 0.6667 |    1.0    | 0.8 | 0.7638 |\n",
      "+----------+--------+--------+--------+-----------+-----+--------+\n"
     ]
    }
   ],
   "source": [
    "from sklearn.metrics import accuracy_score, f1_score, precision_score, recall_score, matthews_corrcoef\n",
    "from sklearn.metrics import roc_auc_score, average_precision_score\n",
    "from prettytable import PrettyTable\n",
    "accuracy_scores = []\n",
    "f1_scores = []\n",
    "recall_scores = []\n",
    "precision_scores = []\n",
    "MCCs = []\n",
    "auROCs = []\n",
    "auPRCs = []\n",
    "\n",
    "accuracy_scores.append(accuracy_score(y_true=y_test, y_pred=y_pred))\n",
    "f1_scores.append(f1_score(y_true=y_test, y_pred=y_pred))\n",
    "recall_scores.append(recall_score(y_true=y_test, y_pred=y_pred))\n",
    "precision_scores.append(precision_score(y_true=y_test, y_pred=y_pred))\n",
    "MCCs.append(matthews_corrcoef(y_true=y_test, y_pred=y_pred))\n",
    "auROCs.append(roc_auc_score(y_true=y_test, y_score=clf.predict_proba(X_test)[:, 1]))\n",
    "auPRCs.append(average_precision_score(y_true=y_test,  y_score=clf.predict_proba(X_test)[:, 0]))\n",
    "\n",
    "table = PrettyTable()\n",
    "column_names = ['Accuracy', 'auROC', 'auPRC', 'recall', 'precision', 'f1', 'MCC']\n",
    "table.add_column(column_names[0], np.round(accuracy_scores, 4))\n",
    "table.add_column(column_names[1], np.round(auROCs, 4))\n",
    "table.add_column(column_names[2], np.round(auPRCs, 4))\n",
    "table.add_column(column_names[3], np.round(recall_scores, 4))\n",
    "table.add_column(column_names[4], np.round(precision_scores, 4))\n",
    "table.add_column(column_names[5], np.round(f1_scores, 4))\n",
    "table.add_column(column_names[6], np.round(MCCs, 4))\n",
    "\n",
    "\n",
    "print(table)"
   ]
  },
  {
   "cell_type": "markdown",
   "metadata": {
    "pycharm": {
     "name": "#%% md\n"
    }
   },
   "source": [
    "## Visualize the feature importance function"
   ]
  },
  {
   "cell_type": "code",
   "execution_count": 11,
   "metadata": {
    "pycharm": {
     "name": "#%%\n"
    }
   },
   "outputs": [
    {
     "data": {
      "text/plain": [
       "<AxesSubplot:title={'center':'Feature importance'}, xlabel='F score', ylabel='Features'>"
      ]
     },
     "execution_count": 11,
     "metadata": {},
     "output_type": "execute_result"
    },
    {
     "data": {
      "image/png": "[encoded data removed]",
      "text/plain": [
       "<Figure size 432x288 with 1 Axes>"
      ]
     },
     "metadata": {
      "needs_background": "light"
     },
     "output_type": "display_data"
    }
   ],
   "source": [
    "%matplotlib inline\n",
    "\n",
    "xgb.plot_importance(clf)\n",
    "\n"
   ]
  }
 ],
 "metadata": {
  "kernelspec": {
   "display_name": "PyCharm (proj4CM)",
   "language": "python",
   "name": "pycharm-f3dbbc4a"
  },
  "language_info": {
   "codemirror_mode": {
    "name": "ipython",
    "version": 3
   },
   "file_extension": ".py",
   "mimetype": "text/x-python",
   "name": "python",
   "nbconvert_exporter": "python",
   "pygments_lexer": "ipython3",
   "version": "3.7.0"
  }
 },
 "nbformat": 4,
 "nbformat_minor": 1
}
